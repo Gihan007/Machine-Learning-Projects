{
 "cells": [
  {
   "cell_type": "code",
   "execution_count": 36,
   "id": "f2b9aa1b-44b0-44ee-bc86-e3db23c7e637",
   "metadata": {},
   "outputs": [],
   "source": [
    "from sklearn.model_selection import train_test_split\n",
    "from sklearn.linear_model import LogisticRegression\n",
    "from sklearn.ensemble import RandomForestClassifier\n",
    "from sklearn import tree\n",
    "from sklearn.svm import SVC\n",
    "from sklearn.datasets import load_digits\n",
    "digits = load_digits()\n",
    "digits.data\n",
    "digits.target\n",
    "import tensorflow as tf\n",
    "model =SVC()\n"
   ]
  },
  {
   "cell_type": "code",
   "execution_count": 37,
   "id": "9b508c40-52cc-40f3-8b3e-42316dd0cbfc",
   "metadata": {},
   "outputs": [],
   "source": [
    "X_train , X_test , Y_train , Y_test = train_test_split(digits.data , digits.target, test_size =0.2)"
   ]
  },
  {
   "cell_type": "code",
   "execution_count": 40,
   "id": "20d42909-4a28-46d8-9bbd-a695abcaf2ce",
   "metadata": {},
   "outputs": [
    {
     "data": {
      "text/plain": [
       "SVC()"
      ]
     },
     "execution_count": 40,
     "metadata": {},
     "output_type": "execute_result"
    }
   ],
   "source": [
    "model.fit(X_train , Y_train)"
   ]
  },
  {
   "cell_type": "code",
   "execution_count": 41,
   "id": "d47fbb86-36c2-4efd-b965-3029c270c7ad",
   "metadata": {},
   "outputs": [
    {
     "data": {
      "text/plain": [
       "KFold(n_splits=6, random_state=None, shuffle=False)"
      ]
     },
     "execution_count": 41,
     "metadata": {},
     "output_type": "execute_result"
    }
   ],
   "source": [
    "from sklearn.model_selection import KFold\n",
    "k=KFold(n_splits=6)\n",
    "k"
   ]
  },
  {
   "cell_type": "code",
   "execution_count": 42,
   "id": "c63f7b2f-11b4-4b78-98bd-c9c3ba2680a0",
   "metadata": {},
   "outputs": [
    {
     "name": "stdout",
     "output_type": "stream",
     "text": [
      "[2 3 4 5 6 7 8] [0 1]\n",
      "[0 1 4 5 6 7 8] [2 3]\n",
      "[0 1 2 3 6 7 8] [4 5]\n",
      "[0 1 2 3 4 5 7 8] [6]\n",
      "[0 1 2 3 4 5 6 8] [7]\n",
      "[0 1 2 3 4 5 6 7] [8]\n"
     ]
    }
   ],
   "source": [
    "for train_index, test_index in k.split([1,2,3,4,5,6,7,8,9]):\n",
    "    print(train_index, test_index)"
   ]
  },
  {
   "cell_type": "code",
   "execution_count": 43,
   "id": "c698c0ae-e52b-40a0-9e8a-13ab72a275c8",
   "metadata": {},
   "outputs": [],
   "source": [
    "from sklearn.model_selection import cross_val_score\n",
    "kC=[]"
   ]
  },
  {
   "cell_type": "code",
   "execution_count": 44,
   "id": "852446b0-a146-4270-9d6f-b3c46bf7bebc",
   "metadata": {},
   "outputs": [
    {
     "data": {
      "text/plain": [
       "[array([0.96111111, 0.94444444, 0.98328691, 0.98885794, 0.93871866])]"
      ]
     },
     "execution_count": 44,
     "metadata": {},
     "output_type": "execute_result"
    }
   ],
   "source": [
    "kC.append(cross_val_score(model,digits.data ,digits.target))\n",
    "kC"
   ]
  },
  {
   "cell_type": "code",
   "execution_count": 47,
   "id": "14d00784-c0d0-4de2-9e17-d5b17b25136d",
   "metadata": {},
   "outputs": [
    {
     "data": {
      "text/plain": [
       "array([7])"
      ]
     },
     "execution_count": 47,
     "metadata": {},
     "output_type": "execute_result"
    }
   ],
   "source": [
    "model.predict(X_test[[7]])"
   ]
  },
  {
   "cell_type": "code",
   "execution_count": 48,
   "id": "f3a9575d-b9ec-4fa2-89f1-22148d7107ad",
   "metadata": {},
   "outputs": [
    {
     "data": {
      "text/plain": [
       "0.9888888888888889"
      ]
     },
     "execution_count": 48,
     "metadata": {},
     "output_type": "execute_result"
    }
   ],
   "source": [
    "model.score(X_test , Y_test)"
   ]
  },
  {
   "cell_type": "code",
   "execution_count": null,
   "id": "97a84802-2815-46a1-8499-2aedb1f6d5d7",
   "metadata": {},
   "outputs": [],
   "source": []
  }
 ],
 "metadata": {
  "kernelspec": {
   "display_name": "Python 3 (ipykernel)",
   "language": "python",
   "name": "python3"
  },
  "language_info": {
   "codemirror_mode": {
    "name": "ipython",
    "version": 3
   },
   "file_extension": ".py",
   "mimetype": "text/x-python",
   "name": "python",
   "nbconvert_exporter": "python",
   "pygments_lexer": "ipython3",
   "version": "3.9.12"
  }
 },
 "nbformat": 4,
 "nbformat_minor": 5
}
