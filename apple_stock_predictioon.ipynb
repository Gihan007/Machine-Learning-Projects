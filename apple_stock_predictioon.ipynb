{
 "cells": [
  {
   "cell_type": "markdown",
   "id": "e30db944-19f4-4d59-ac1b-b0ae819fcc95",
   "metadata": {},
   "source": [
    "importing all the libraries "
   ]
  },
  {
   "cell_type": "code",
   "execution_count": 93,
   "id": "c8870a8c-21ba-4a77-9b62-e8d267d6519f",
   "metadata": {},
   "outputs": [
    {
     "name": "stdout",
     "output_type": "stream",
     "text": [
      "Requirement already satisfied: pyreadline in c:\\users\\gihan lakmal\\anaconda3\\ana\\lib\\site-packages (2.1)\n"
     ]
    }
   ],
   "source": [
    "# Disable jedi autocompleter\n",
    "!pip install pyreadline\n",
    "%config Completer.use_jedi = False"
   ]
  },
  {
   "cell_type": "code",
   "execution_count": 114,
   "id": "6ed18746-86f6-4032-855c-f5ab4497609a",
   "metadata": {},
   "outputs": [],
   "source": [
    "import yfinance as yt\n",
    "import pandas as pd\n",
    "import matplotlib.pyplot as plt\n",
    "import seaborn as sb\n",
    "from  sklearn.svm import SVC\n",
    "from sklearn.linear_model import LogisticRegression\n",
    "from sklearn.ensemble import RandomForestClassifier\n",
    "from sklearn.model_selection import GridSearchCV\n",
    "from sklearn.metrics import confusion_matrix\n",
    "from sklearn.model_selection import train_test_split\n",
    "from sklearn.metrics import confusion_matrix"
   ]
  },
  {
   "cell_type": "code",
   "execution_count": 115,
   "id": "a1b9bf23-123f-4166-91d8-b0424b00def2",
   "metadata": {},
   "outputs": [
    {
     "data": {
      "text/html": [
       "<div>\n",
       "<style scoped>\n",
       "    .dataframe tbody tr th:only-of-type {\n",
       "        vertical-align: middle;\n",
       "    }\n",
       "\n",
       "    .dataframe tbody tr th {\n",
       "        vertical-align: top;\n",
       "    }\n",
       "\n",
       "    .dataframe thead th {\n",
       "        text-align: right;\n",
       "    }\n",
       "</style>\n",
       "<table border=\"1\" class=\"dataframe\">\n",
       "  <thead>\n",
       "    <tr style=\"text-align: right;\">\n",
       "      <th></th>\n",
       "      <th>Open</th>\n",
       "      <th>High</th>\n",
       "      <th>Low</th>\n",
       "      <th>Close</th>\n",
       "      <th>Volume</th>\n",
       "      <th>Dividends</th>\n",
       "      <th>Stock Splits</th>\n",
       "    </tr>\n",
       "    <tr>\n",
       "      <th>Date</th>\n",
       "      <th></th>\n",
       "      <th></th>\n",
       "      <th></th>\n",
       "      <th></th>\n",
       "      <th></th>\n",
       "      <th></th>\n",
       "      <th></th>\n",
       "    </tr>\n",
       "  </thead>\n",
       "  <tbody>\n",
       "    <tr>\n",
       "      <th>1980-12-12</th>\n",
       "      <td>0.100178</td>\n",
       "      <td>0.100614</td>\n",
       "      <td>0.100178</td>\n",
       "      <td>0.100178</td>\n",
       "      <td>469033600</td>\n",
       "      <td>0.0</td>\n",
       "      <td>0.0</td>\n",
       "    </tr>\n",
       "    <tr>\n",
       "      <th>1980-12-15</th>\n",
       "      <td>0.095388</td>\n",
       "      <td>0.095388</td>\n",
       "      <td>0.094952</td>\n",
       "      <td>0.094952</td>\n",
       "      <td>175884800</td>\n",
       "      <td>0.0</td>\n",
       "      <td>0.0</td>\n",
       "    </tr>\n",
       "  </tbody>\n",
       "</table>\n",
       "</div>"
      ],
      "text/plain": [
       "                Open      High       Low     Close     Volume  Dividends  \\\n",
       "Date                                                                       \n",
       "1980-12-12  0.100178  0.100614  0.100178  0.100178  469033600        0.0   \n",
       "1980-12-15  0.095388  0.095388  0.094952  0.094952  175884800        0.0   \n",
       "\n",
       "            Stock Splits  \n",
       "Date                      \n",
       "1980-12-12           0.0  \n",
       "1980-12-15           0.0  "
      ]
     },
     "execution_count": 115,
     "metadata": {},
     "output_type": "execute_result"
    }
   ],
   "source": [
    "apple_data = yt.Ticker(\"AAPL\")\n",
    "apple_history_data = apple_data.history(period =\"max\")\n",
    "apple_history_data.head(2)"
   ]
  },
  {
   "cell_type": "code",
   "execution_count": 116,
   "id": "7c140304-2e77-4d1d-81be-901796c8aa6a",
   "metadata": {},
   "outputs": [
    {
     "data": {
      "text/html": [
       "<div>\n",
       "<style scoped>\n",
       "    .dataframe tbody tr th:only-of-type {\n",
       "        vertical-align: middle;\n",
       "    }\n",
       "\n",
       "    .dataframe tbody tr th {\n",
       "        vertical-align: top;\n",
       "    }\n",
       "\n",
       "    .dataframe thead th {\n",
       "        text-align: right;\n",
       "    }\n",
       "</style>\n",
       "<table border=\"1\" class=\"dataframe\">\n",
       "  <thead>\n",
       "    <tr style=\"text-align: right;\">\n",
       "      <th></th>\n",
       "      <th>Close</th>\n",
       "    </tr>\n",
       "    <tr>\n",
       "      <th>Date</th>\n",
       "      <th></th>\n",
       "    </tr>\n",
       "  </thead>\n",
       "  <tbody>\n",
       "    <tr>\n",
       "      <th>1980-12-12</th>\n",
       "      <td>0.100178</td>\n",
       "    </tr>\n",
       "    <tr>\n",
       "      <th>1980-12-15</th>\n",
       "      <td>0.094952</td>\n",
       "    </tr>\n",
       "    <tr>\n",
       "      <th>1980-12-16</th>\n",
       "      <td>0.087983</td>\n",
       "    </tr>\n",
       "    <tr>\n",
       "      <th>1980-12-17</th>\n",
       "      <td>0.090160</td>\n",
       "    </tr>\n",
       "    <tr>\n",
       "      <th>1980-12-18</th>\n",
       "      <td>0.092774</td>\n",
       "    </tr>\n",
       "    <tr>\n",
       "      <th>...</th>\n",
       "      <td>...</td>\n",
       "    </tr>\n",
       "    <tr>\n",
       "      <th>2022-07-25</th>\n",
       "      <td>152.949997</td>\n",
       "    </tr>\n",
       "    <tr>\n",
       "      <th>2022-07-26</th>\n",
       "      <td>151.600006</td>\n",
       "    </tr>\n",
       "    <tr>\n",
       "      <th>2022-07-27</th>\n",
       "      <td>156.789993</td>\n",
       "    </tr>\n",
       "    <tr>\n",
       "      <th>2022-07-28</th>\n",
       "      <td>157.350006</td>\n",
       "    </tr>\n",
       "    <tr>\n",
       "      <th>2022-07-29</th>\n",
       "      <td>162.509995</td>\n",
       "    </tr>\n",
       "  </tbody>\n",
       "</table>\n",
       "<p>10496 rows × 1 columns</p>\n",
       "</div>"
      ],
      "text/plain": [
       "                 Close\n",
       "Date                  \n",
       "1980-12-12    0.100178\n",
       "1980-12-15    0.094952\n",
       "1980-12-16    0.087983\n",
       "1980-12-17    0.090160\n",
       "1980-12-18    0.092774\n",
       "...                ...\n",
       "2022-07-25  152.949997\n",
       "2022-07-26  151.600006\n",
       "2022-07-27  156.789993\n",
       "2022-07-28  157.350006\n",
       "2022-07-29  162.509995\n",
       "\n",
       "[10496 rows x 1 columns]"
      ]
     },
     "execution_count": 116,
     "metadata": {},
     "output_type": "execute_result"
    }
   ],
   "source": [
    "apple_df1 = pd.DataFrame({\"Close\":apple_history_data[\"Close\"]})\n",
    "apple_df1"
   ]
  },
  {
   "cell_type": "code",
   "execution_count": 117,
   "id": "8fa001b3",
   "metadata": {},
   "outputs": [
    {
     "data": {
      "text/html": [
       "<div>\n",
       "<style scoped>\n",
       "    .dataframe tbody tr th:only-of-type {\n",
       "        vertical-align: middle;\n",
       "    }\n",
       "\n",
       "    .dataframe tbody tr th {\n",
       "        vertical-align: top;\n",
       "    }\n",
       "\n",
       "    .dataframe thead th {\n",
       "        text-align: right;\n",
       "    }\n",
       "</style>\n",
       "<table border=\"1\" class=\"dataframe\">\n",
       "  <thead>\n",
       "    <tr style=\"text-align: right;\">\n",
       "      <th></th>\n",
       "      <th>Real_Time_Close</th>\n",
       "    </tr>\n",
       "    <tr>\n",
       "      <th>Date</th>\n",
       "      <th></th>\n",
       "    </tr>\n",
       "  </thead>\n",
       "  <tbody>\n",
       "    <tr>\n",
       "      <th>1980-12-12</th>\n",
       "      <td>0.100178</td>\n",
       "    </tr>\n",
       "    <tr>\n",
       "      <th>1980-12-15</th>\n",
       "      <td>0.094952</td>\n",
       "    </tr>\n",
       "    <tr>\n",
       "      <th>1980-12-16</th>\n",
       "      <td>0.087983</td>\n",
       "    </tr>\n",
       "    <tr>\n",
       "      <th>1980-12-17</th>\n",
       "      <td>0.090160</td>\n",
       "    </tr>\n",
       "    <tr>\n",
       "      <th>1980-12-18</th>\n",
       "      <td>0.092774</td>\n",
       "    </tr>\n",
       "    <tr>\n",
       "      <th>...</th>\n",
       "      <td>...</td>\n",
       "    </tr>\n",
       "    <tr>\n",
       "      <th>2022-07-25</th>\n",
       "      <td>152.949997</td>\n",
       "    </tr>\n",
       "    <tr>\n",
       "      <th>2022-07-26</th>\n",
       "      <td>151.600006</td>\n",
       "    </tr>\n",
       "    <tr>\n",
       "      <th>2022-07-27</th>\n",
       "      <td>156.789993</td>\n",
       "    </tr>\n",
       "    <tr>\n",
       "      <th>2022-07-28</th>\n",
       "      <td>157.350006</td>\n",
       "    </tr>\n",
       "    <tr>\n",
       "      <th>2022-07-29</th>\n",
       "      <td>162.509995</td>\n",
       "    </tr>\n",
       "  </tbody>\n",
       "</table>\n",
       "<p>10496 rows × 1 columns</p>\n",
       "</div>"
      ],
      "text/plain": [
       "            Real_Time_Close\n",
       "Date                       \n",
       "1980-12-12         0.100178\n",
       "1980-12-15         0.094952\n",
       "1980-12-16         0.087983\n",
       "1980-12-17         0.090160\n",
       "1980-12-18         0.092774\n",
       "...                     ...\n",
       "2022-07-25       152.949997\n",
       "2022-07-26       151.600006\n",
       "2022-07-27       156.789993\n",
       "2022-07-28       157.350006\n",
       "2022-07-29       162.509995\n",
       "\n",
       "[10496 rows x 1 columns]"
      ]
     },
     "execution_count": 117,
     "metadata": {},
     "output_type": "execute_result"
    }
   ],
   "source": [
    "apple_df1 = apple_df1.rename(columns ={\"Close\" : \"Real_Time_Close\"})\n",
    "apple_df1"
   ]
  },
  {
   "cell_type": "code",
   "execution_count": 118,
   "id": "a25ffc9f",
   "metadata": {},
   "outputs": [
    {
     "data": {
      "text/html": [
       "<div>\n",
       "<style scoped>\n",
       "    .dataframe tbody tr th:only-of-type {\n",
       "        vertical-align: middle;\n",
       "    }\n",
       "\n",
       "    .dataframe tbody tr th {\n",
       "        vertical-align: top;\n",
       "    }\n",
       "\n",
       "    .dataframe thead th {\n",
       "        text-align: right;\n",
       "    }\n",
       "</style>\n",
       "<table border=\"1\" class=\"dataframe\">\n",
       "  <thead>\n",
       "    <tr style=\"text-align: right;\">\n",
       "      <th></th>\n",
       "      <th>Real_Time_Close</th>\n",
       "      <th>target</th>\n",
       "    </tr>\n",
       "    <tr>\n",
       "      <th>Date</th>\n",
       "      <th></th>\n",
       "      <th></th>\n",
       "    </tr>\n",
       "  </thead>\n",
       "  <tbody>\n",
       "    <tr>\n",
       "      <th>1980-12-15</th>\n",
       "      <td>0.094952</td>\n",
       "      <td>0.0</td>\n",
       "    </tr>\n",
       "    <tr>\n",
       "      <th>1980-12-16</th>\n",
       "      <td>0.087983</td>\n",
       "      <td>0.0</td>\n",
       "    </tr>\n",
       "    <tr>\n",
       "      <th>1980-12-17</th>\n",
       "      <td>0.090160</td>\n",
       "      <td>1.0</td>\n",
       "    </tr>\n",
       "    <tr>\n",
       "      <th>1980-12-18</th>\n",
       "      <td>0.092774</td>\n",
       "      <td>1.0</td>\n",
       "    </tr>\n",
       "    <tr>\n",
       "      <th>1980-12-19</th>\n",
       "      <td>0.098436</td>\n",
       "      <td>1.0</td>\n",
       "    </tr>\n",
       "  </tbody>\n",
       "</table>\n",
       "</div>"
      ],
      "text/plain": [
       "            Real_Time_Close  target\n",
       "Date                               \n",
       "1980-12-15         0.094952     0.0\n",
       "1980-12-16         0.087983     0.0\n",
       "1980-12-17         0.090160     1.0\n",
       "1980-12-18         0.092774     1.0\n",
       "1980-12-19         0.098436     1.0"
      ]
     },
     "execution_count": 118,
     "metadata": {},
     "output_type": "execute_result"
    }
   ],
   "source": [
    "apple_df1[\"target\"] = apple_history_data.rolling(2).apply(lambda x: x.iloc[1] > x.iloc[0])[\"Close\"]\n",
    "apple_df2 = apple_df1.iloc[1:,:]\n",
    "apple_df2.head()"
   ]
  },
  {
   "cell_type": "code",
   "execution_count": 119,
   "id": "5a0ad491",
   "metadata": {},
   "outputs": [
    {
     "data": {
      "text/html": [
       "<div>\n",
       "<style scoped>\n",
       "    .dataframe tbody tr th:only-of-type {\n",
       "        vertical-align: middle;\n",
       "    }\n",
       "\n",
       "    .dataframe tbody tr th {\n",
       "        vertical-align: top;\n",
       "    }\n",
       "\n",
       "    .dataframe thead th {\n",
       "        text-align: right;\n",
       "    }\n",
       "</style>\n",
       "<table border=\"1\" class=\"dataframe\">\n",
       "  <thead>\n",
       "    <tr style=\"text-align: right;\">\n",
       "      <th></th>\n",
       "      <th>Open</th>\n",
       "      <th>High</th>\n",
       "      <th>Low</th>\n",
       "      <th>Close</th>\n",
       "      <th>Volume</th>\n",
       "      <th>Dividends</th>\n",
       "      <th>Stock Splits</th>\n",
       "    </tr>\n",
       "    <tr>\n",
       "      <th>Date</th>\n",
       "      <th></th>\n",
       "      <th></th>\n",
       "      <th></th>\n",
       "      <th></th>\n",
       "      <th></th>\n",
       "      <th></th>\n",
       "      <th></th>\n",
       "    </tr>\n",
       "  </thead>\n",
       "  <tbody>\n",
       "    <tr>\n",
       "      <th>1980-12-15</th>\n",
       "      <td>0.100178</td>\n",
       "      <td>0.100614</td>\n",
       "      <td>0.100178</td>\n",
       "      <td>0.100178</td>\n",
       "      <td>469033600.0</td>\n",
       "      <td>0.0</td>\n",
       "      <td>0.0</td>\n",
       "    </tr>\n",
       "    <tr>\n",
       "      <th>1980-12-16</th>\n",
       "      <td>0.095388</td>\n",
       "      <td>0.095388</td>\n",
       "      <td>0.094952</td>\n",
       "      <td>0.094952</td>\n",
       "      <td>175884800.0</td>\n",
       "      <td>0.0</td>\n",
       "      <td>0.0</td>\n",
       "    </tr>\n",
       "    <tr>\n",
       "      <th>1980-12-17</th>\n",
       "      <td>0.088418</td>\n",
       "      <td>0.088418</td>\n",
       "      <td>0.087983</td>\n",
       "      <td>0.087983</td>\n",
       "      <td>105728000.0</td>\n",
       "      <td>0.0</td>\n",
       "      <td>0.0</td>\n",
       "    </tr>\n",
       "    <tr>\n",
       "      <th>1980-12-18</th>\n",
       "      <td>0.090160</td>\n",
       "      <td>0.090596</td>\n",
       "      <td>0.090160</td>\n",
       "      <td>0.090160</td>\n",
       "      <td>86441600.0</td>\n",
       "      <td>0.0</td>\n",
       "      <td>0.0</td>\n",
       "    </tr>\n",
       "    <tr>\n",
       "      <th>1980-12-19</th>\n",
       "      <td>0.092774</td>\n",
       "      <td>0.093210</td>\n",
       "      <td>0.092774</td>\n",
       "      <td>0.092774</td>\n",
       "      <td>73449600.0</td>\n",
       "      <td>0.0</td>\n",
       "      <td>0.0</td>\n",
       "    </tr>\n",
       "    <tr>\n",
       "      <th>...</th>\n",
       "      <td>...</td>\n",
       "      <td>...</td>\n",
       "      <td>...</td>\n",
       "      <td>...</td>\n",
       "      <td>...</td>\n",
       "      <td>...</td>\n",
       "      <td>...</td>\n",
       "    </tr>\n",
       "    <tr>\n",
       "      <th>2022-07-25</th>\n",
       "      <td>155.389999</td>\n",
       "      <td>156.279999</td>\n",
       "      <td>153.410004</td>\n",
       "      <td>154.089996</td>\n",
       "      <td>66625400.0</td>\n",
       "      <td>0.0</td>\n",
       "      <td>0.0</td>\n",
       "    </tr>\n",
       "    <tr>\n",
       "      <th>2022-07-26</th>\n",
       "      <td>154.009995</td>\n",
       "      <td>155.039993</td>\n",
       "      <td>152.279999</td>\n",
       "      <td>152.949997</td>\n",
       "      <td>53623900.0</td>\n",
       "      <td>0.0</td>\n",
       "      <td>0.0</td>\n",
       "    </tr>\n",
       "    <tr>\n",
       "      <th>2022-07-27</th>\n",
       "      <td>152.259995</td>\n",
       "      <td>153.089996</td>\n",
       "      <td>150.800003</td>\n",
       "      <td>151.600006</td>\n",
       "      <td>55138700.0</td>\n",
       "      <td>0.0</td>\n",
       "      <td>0.0</td>\n",
       "    </tr>\n",
       "    <tr>\n",
       "      <th>2022-07-28</th>\n",
       "      <td>152.580002</td>\n",
       "      <td>157.330002</td>\n",
       "      <td>152.160004</td>\n",
       "      <td>156.789993</td>\n",
       "      <td>78620700.0</td>\n",
       "      <td>0.0</td>\n",
       "      <td>0.0</td>\n",
       "    </tr>\n",
       "    <tr>\n",
       "      <th>2022-07-29</th>\n",
       "      <td>156.979996</td>\n",
       "      <td>157.639999</td>\n",
       "      <td>154.410004</td>\n",
       "      <td>157.350006</td>\n",
       "      <td>81378700.0</td>\n",
       "      <td>0.0</td>\n",
       "      <td>0.0</td>\n",
       "    </tr>\n",
       "  </tbody>\n",
       "</table>\n",
       "<p>10495 rows × 7 columns</p>\n",
       "</div>"
      ],
      "text/plain": [
       "                  Open        High         Low       Close       Volume  \\\n",
       "Date                                                                      \n",
       "1980-12-15    0.100178    0.100614    0.100178    0.100178  469033600.0   \n",
       "1980-12-16    0.095388    0.095388    0.094952    0.094952  175884800.0   \n",
       "1980-12-17    0.088418    0.088418    0.087983    0.087983  105728000.0   \n",
       "1980-12-18    0.090160    0.090596    0.090160    0.090160   86441600.0   \n",
       "1980-12-19    0.092774    0.093210    0.092774    0.092774   73449600.0   \n",
       "...                ...         ...         ...         ...          ...   \n",
       "2022-07-25  155.389999  156.279999  153.410004  154.089996   66625400.0   \n",
       "2022-07-26  154.009995  155.039993  152.279999  152.949997   53623900.0   \n",
       "2022-07-27  152.259995  153.089996  150.800003  151.600006   55138700.0   \n",
       "2022-07-28  152.580002  157.330002  152.160004  156.789993   78620700.0   \n",
       "2022-07-29  156.979996  157.639999  154.410004  157.350006   81378700.0   \n",
       "\n",
       "            Dividends  Stock Splits  \n",
       "Date                                 \n",
       "1980-12-15        0.0           0.0  \n",
       "1980-12-16        0.0           0.0  \n",
       "1980-12-17        0.0           0.0  \n",
       "1980-12-18        0.0           0.0  \n",
       "1980-12-19        0.0           0.0  \n",
       "...               ...           ...  \n",
       "2022-07-25        0.0           0.0  \n",
       "2022-07-26        0.0           0.0  \n",
       "2022-07-27        0.0           0.0  \n",
       "2022-07-28        0.0           0.0  \n",
       "2022-07-29        0.0           0.0  \n",
       "\n",
       "[10495 rows x 7 columns]"
      ]
     },
     "execution_count": 119,
     "metadata": {},
     "output_type": "execute_result"
    }
   ],
   "source": [
    "apple_prev_history_data = apple_history_data.shift(1).iloc[1:,:]\n",
    "apple_prev_history_data"
   ]
  },
  {
   "cell_type": "code",
   "execution_count": 120,
   "id": "dfb6a587",
   "metadata": {},
   "outputs": [
    {
     "data": {
      "text/html": [
       "<div>\n",
       "<style scoped>\n",
       "    .dataframe tbody tr th:only-of-type {\n",
       "        vertical-align: middle;\n",
       "    }\n",
       "\n",
       "    .dataframe tbody tr th {\n",
       "        vertical-align: top;\n",
       "    }\n",
       "\n",
       "    .dataframe thead th {\n",
       "        text-align: right;\n",
       "    }\n",
       "</style>\n",
       "<table border=\"1\" class=\"dataframe\">\n",
       "  <thead>\n",
       "    <tr style=\"text-align: right;\">\n",
       "      <th></th>\n",
       "      <th>Real_Time_Close</th>\n",
       "      <th>target</th>\n",
       "      <th>Open</th>\n",
       "      <th>High</th>\n",
       "      <th>Low</th>\n",
       "      <th>Close</th>\n",
       "      <th>Volume</th>\n",
       "      <th>Dividends</th>\n",
       "      <th>Stock Splits</th>\n",
       "    </tr>\n",
       "    <tr>\n",
       "      <th>Date</th>\n",
       "      <th></th>\n",
       "      <th></th>\n",
       "      <th></th>\n",
       "      <th></th>\n",
       "      <th></th>\n",
       "      <th></th>\n",
       "      <th></th>\n",
       "      <th></th>\n",
       "      <th></th>\n",
       "    </tr>\n",
       "  </thead>\n",
       "  <tbody>\n",
       "    <tr>\n",
       "      <th>1980-12-15</th>\n",
       "      <td>0.094952</td>\n",
       "      <td>0.0</td>\n",
       "      <td>0.100178</td>\n",
       "      <td>0.100614</td>\n",
       "      <td>0.100178</td>\n",
       "      <td>0.100178</td>\n",
       "      <td>469033600.0</td>\n",
       "      <td>0.0</td>\n",
       "      <td>0.0</td>\n",
       "    </tr>\n",
       "    <tr>\n",
       "      <th>1980-12-16</th>\n",
       "      <td>0.087983</td>\n",
       "      <td>0.0</td>\n",
       "      <td>0.095388</td>\n",
       "      <td>0.095388</td>\n",
       "      <td>0.094952</td>\n",
       "      <td>0.094952</td>\n",
       "      <td>175884800.0</td>\n",
       "      <td>0.0</td>\n",
       "      <td>0.0</td>\n",
       "    </tr>\n",
       "    <tr>\n",
       "      <th>1980-12-17</th>\n",
       "      <td>0.090160</td>\n",
       "      <td>1.0</td>\n",
       "      <td>0.088418</td>\n",
       "      <td>0.088418</td>\n",
       "      <td>0.087983</td>\n",
       "      <td>0.087983</td>\n",
       "      <td>105728000.0</td>\n",
       "      <td>0.0</td>\n",
       "      <td>0.0</td>\n",
       "    </tr>\n",
       "    <tr>\n",
       "      <th>1980-12-18</th>\n",
       "      <td>0.092774</td>\n",
       "      <td>1.0</td>\n",
       "      <td>0.090160</td>\n",
       "      <td>0.090596</td>\n",
       "      <td>0.090160</td>\n",
       "      <td>0.090160</td>\n",
       "      <td>86441600.0</td>\n",
       "      <td>0.0</td>\n",
       "      <td>0.0</td>\n",
       "    </tr>\n",
       "    <tr>\n",
       "      <th>1980-12-19</th>\n",
       "      <td>0.098436</td>\n",
       "      <td>1.0</td>\n",
       "      <td>0.092774</td>\n",
       "      <td>0.093210</td>\n",
       "      <td>0.092774</td>\n",
       "      <td>0.092774</td>\n",
       "      <td>73449600.0</td>\n",
       "      <td>0.0</td>\n",
       "      <td>0.0</td>\n",
       "    </tr>\n",
       "    <tr>\n",
       "      <th>...</th>\n",
       "      <td>...</td>\n",
       "      <td>...</td>\n",
       "      <td>...</td>\n",
       "      <td>...</td>\n",
       "      <td>...</td>\n",
       "      <td>...</td>\n",
       "      <td>...</td>\n",
       "      <td>...</td>\n",
       "      <td>...</td>\n",
       "    </tr>\n",
       "    <tr>\n",
       "      <th>2022-07-25</th>\n",
       "      <td>152.949997</td>\n",
       "      <td>0.0</td>\n",
       "      <td>155.389999</td>\n",
       "      <td>156.279999</td>\n",
       "      <td>153.410004</td>\n",
       "      <td>154.089996</td>\n",
       "      <td>66625400.0</td>\n",
       "      <td>0.0</td>\n",
       "      <td>0.0</td>\n",
       "    </tr>\n",
       "    <tr>\n",
       "      <th>2022-07-26</th>\n",
       "      <td>151.600006</td>\n",
       "      <td>0.0</td>\n",
       "      <td>154.009995</td>\n",
       "      <td>155.039993</td>\n",
       "      <td>152.279999</td>\n",
       "      <td>152.949997</td>\n",
       "      <td>53623900.0</td>\n",
       "      <td>0.0</td>\n",
       "      <td>0.0</td>\n",
       "    </tr>\n",
       "    <tr>\n",
       "      <th>2022-07-27</th>\n",
       "      <td>156.789993</td>\n",
       "      <td>1.0</td>\n",
       "      <td>152.259995</td>\n",
       "      <td>153.089996</td>\n",
       "      <td>150.800003</td>\n",
       "      <td>151.600006</td>\n",
       "      <td>55138700.0</td>\n",
       "      <td>0.0</td>\n",
       "      <td>0.0</td>\n",
       "    </tr>\n",
       "    <tr>\n",
       "      <th>2022-07-28</th>\n",
       "      <td>157.350006</td>\n",
       "      <td>1.0</td>\n",
       "      <td>152.580002</td>\n",
       "      <td>157.330002</td>\n",
       "      <td>152.160004</td>\n",
       "      <td>156.789993</td>\n",
       "      <td>78620700.0</td>\n",
       "      <td>0.0</td>\n",
       "      <td>0.0</td>\n",
       "    </tr>\n",
       "    <tr>\n",
       "      <th>2022-07-29</th>\n",
       "      <td>162.509995</td>\n",
       "      <td>1.0</td>\n",
       "      <td>156.979996</td>\n",
       "      <td>157.639999</td>\n",
       "      <td>154.410004</td>\n",
       "      <td>157.350006</td>\n",
       "      <td>81378700.0</td>\n",
       "      <td>0.0</td>\n",
       "      <td>0.0</td>\n",
       "    </tr>\n",
       "  </tbody>\n",
       "</table>\n",
       "<p>10495 rows × 9 columns</p>\n",
       "</div>"
      ],
      "text/plain": [
       "            Real_Time_Close  target        Open        High         Low  \\\n",
       "Date                                                                      \n",
       "1980-12-15         0.094952     0.0    0.100178    0.100614    0.100178   \n",
       "1980-12-16         0.087983     0.0    0.095388    0.095388    0.094952   \n",
       "1980-12-17         0.090160     1.0    0.088418    0.088418    0.087983   \n",
       "1980-12-18         0.092774     1.0    0.090160    0.090596    0.090160   \n",
       "1980-12-19         0.098436     1.0    0.092774    0.093210    0.092774   \n",
       "...                     ...     ...         ...         ...         ...   \n",
       "2022-07-25       152.949997     0.0  155.389999  156.279999  153.410004   \n",
       "2022-07-26       151.600006     0.0  154.009995  155.039993  152.279999   \n",
       "2022-07-27       156.789993     1.0  152.259995  153.089996  150.800003   \n",
       "2022-07-28       157.350006     1.0  152.580002  157.330002  152.160004   \n",
       "2022-07-29       162.509995     1.0  156.979996  157.639999  154.410004   \n",
       "\n",
       "                 Close       Volume  Dividends  Stock Splits  \n",
       "Date                                                          \n",
       "1980-12-15    0.100178  469033600.0        0.0           0.0  \n",
       "1980-12-16    0.094952  175884800.0        0.0           0.0  \n",
       "1980-12-17    0.087983  105728000.0        0.0           0.0  \n",
       "1980-12-18    0.090160   86441600.0        0.0           0.0  \n",
       "1980-12-19    0.092774   73449600.0        0.0           0.0  \n",
       "...                ...          ...        ...           ...  \n",
       "2022-07-25  154.089996   66625400.0        0.0           0.0  \n",
       "2022-07-26  152.949997   53623900.0        0.0           0.0  \n",
       "2022-07-27  151.600006   55138700.0        0.0           0.0  \n",
       "2022-07-28  156.789993   78620700.0        0.0           0.0  \n",
       "2022-07-29  157.350006   81378700.0        0.0           0.0  \n",
       "\n",
       "[10495 rows x 9 columns]"
      ]
     },
     "execution_count": 120,
     "metadata": {},
     "output_type": "execute_result"
    }
   ],
   "source": [
    "apple_recreated_dataset =apple_df1.join(apple_prev_history_data)\n",
    "apple_recreated_dataset =apple_recreated_dataset.iloc[1:,:]\n",
    "apple_recreated_dataset"
   ]
  },
  {
   "cell_type": "markdown",
   "id": "e5ac5a29",
   "metadata": {},
   "source": [
    "Lets see what are the featuers that impacting to target column directly"
   ]
  },
  {
   "cell_type": "code",
   "execution_count": 121,
   "id": "5d5c1d3e",
   "metadata": {},
   "outputs": [
    {
     "data": {
      "text/plain": [
       "<AxesSubplot:>"
      ]
     },
     "execution_count": 121,
     "metadata": {},
     "output_type": "execute_result"
    },
    {
     "data": {
      "image/png": "[encoded data removed]",
      "text/plain": [
       "<Figure size 432x288 with 2 Axes>"
      ]
     },
     "metadata": {
      "needs_background": "light"
     },
     "output_type": "display_data"
    }
   ],
   "source": [
    "apple_recreated_dataset_dummy = apple_recreated_dataset.drop(\"Real_Time_Close\" , axis =\"columns\")\n",
    "#pple_recreated_dataset\n",
    "sb.heatmap(apple_recreated_dataset_dummy.corr() , annot =True )"
   ]
  },
  {
   "cell_type": "markdown",
   "id": "a4446bcc",
   "metadata": {},
   "source": [
    "Acording to the following heatmap , we can decide \"Dividends\" and \"Stock Splits\" are less impact than other features"
   ]
  },
  {
   "cell_type": "code",
   "execution_count": 122,
   "id": "4f1c7497",
   "metadata": {},
   "outputs": [
    {
     "data": {
      "text/html": [
       "<div>\n",
       "<style scoped>\n",
       "    .dataframe tbody tr th:only-of-type {\n",
       "        vertical-align: middle;\n",
       "    }\n",
       "\n",
       "    .dataframe tbody tr th {\n",
       "        vertical-align: top;\n",
       "    }\n",
       "\n",
       "    .dataframe thead th {\n",
       "        text-align: right;\n",
       "    }\n",
       "</style>\n",
       "<table border=\"1\" class=\"dataframe\">\n",
       "  <thead>\n",
       "    <tr style=\"text-align: right;\">\n",
       "      <th></th>\n",
       "      <th>Real_Time_Close</th>\n",
       "      <th>target</th>\n",
       "      <th>Open</th>\n",
       "      <th>High</th>\n",
       "      <th>Low</th>\n",
       "      <th>Close</th>\n",
       "      <th>Volume</th>\n",
       "    </tr>\n",
       "    <tr>\n",
       "      <th>Date</th>\n",
       "      <th></th>\n",
       "      <th></th>\n",
       "      <th></th>\n",
       "      <th></th>\n",
       "      <th></th>\n",
       "      <th></th>\n",
       "      <th></th>\n",
       "    </tr>\n",
       "  </thead>\n",
       "  <tbody>\n",
       "    <tr>\n",
       "      <th>1980-12-15</th>\n",
       "      <td>0.094952</td>\n",
       "      <td>0.0</td>\n",
       "      <td>0.100178</td>\n",
       "      <td>0.100614</td>\n",
       "      <td>0.100178</td>\n",
       "      <td>0.100178</td>\n",
       "      <td>469033600.0</td>\n",
       "    </tr>\n",
       "    <tr>\n",
       "      <th>1980-12-16</th>\n",
       "      <td>0.087983</td>\n",
       "      <td>0.0</td>\n",
       "      <td>0.095388</td>\n",
       "      <td>0.095388</td>\n",
       "      <td>0.094952</td>\n",
       "      <td>0.094952</td>\n",
       "      <td>175884800.0</td>\n",
       "    </tr>\n",
       "    <tr>\n",
       "      <th>1980-12-17</th>\n",
       "      <td>0.090160</td>\n",
       "      <td>1.0</td>\n",
       "      <td>0.088418</td>\n",
       "      <td>0.088418</td>\n",
       "      <td>0.087983</td>\n",
       "      <td>0.087983</td>\n",
       "      <td>105728000.0</td>\n",
       "    </tr>\n",
       "    <tr>\n",
       "      <th>1980-12-18</th>\n",
       "      <td>0.092774</td>\n",
       "      <td>1.0</td>\n",
       "      <td>0.090160</td>\n",
       "      <td>0.090596</td>\n",
       "      <td>0.090160</td>\n",
       "      <td>0.090160</td>\n",
       "      <td>86441600.0</td>\n",
       "    </tr>\n",
       "    <tr>\n",
       "      <th>1980-12-19</th>\n",
       "      <td>0.098436</td>\n",
       "      <td>1.0</td>\n",
       "      <td>0.092774</td>\n",
       "      <td>0.093210</td>\n",
       "      <td>0.092774</td>\n",
       "      <td>0.092774</td>\n",
       "      <td>73449600.0</td>\n",
       "    </tr>\n",
       "    <tr>\n",
       "      <th>...</th>\n",
       "      <td>...</td>\n",
       "      <td>...</td>\n",
       "      <td>...</td>\n",
       "      <td>...</td>\n",
       "      <td>...</td>\n",
       "      <td>...</td>\n",
       "      <td>...</td>\n",
       "    </tr>\n",
       "    <tr>\n",
       "      <th>2022-07-25</th>\n",
       "      <td>152.949997</td>\n",
       "      <td>0.0</td>\n",
       "      <td>155.389999</td>\n",
       "      <td>156.279999</td>\n",
       "      <td>153.410004</td>\n",
       "      <td>154.089996</td>\n",
       "      <td>66625400.0</td>\n",
       "    </tr>\n",
       "    <tr>\n",
       "      <th>2022-07-26</th>\n",
       "      <td>151.600006</td>\n",
       "      <td>0.0</td>\n",
       "      <td>154.009995</td>\n",
       "      <td>155.039993</td>\n",
       "      <td>152.279999</td>\n",
       "      <td>152.949997</td>\n",
       "      <td>53623900.0</td>\n",
       "    </tr>\n",
       "    <tr>\n",
       "      <th>2022-07-27</th>\n",
       "      <td>156.789993</td>\n",
       "      <td>1.0</td>\n",
       "      <td>152.259995</td>\n",
       "      <td>153.089996</td>\n",
       "      <td>150.800003</td>\n",
       "      <td>151.600006</td>\n",
       "      <td>55138700.0</td>\n",
       "    </tr>\n",
       "    <tr>\n",
       "      <th>2022-07-28</th>\n",
       "      <td>157.350006</td>\n",
       "      <td>1.0</td>\n",
       "      <td>152.580002</td>\n",
       "      <td>157.330002</td>\n",
       "      <td>152.160004</td>\n",
       "      <td>156.789993</td>\n",
       "      <td>78620700.0</td>\n",
       "    </tr>\n",
       "    <tr>\n",
       "      <th>2022-07-29</th>\n",
       "      <td>162.509995</td>\n",
       "      <td>1.0</td>\n",
       "      <td>156.979996</td>\n",
       "      <td>157.639999</td>\n",
       "      <td>154.410004</td>\n",
       "      <td>157.350006</td>\n",
       "      <td>81378700.0</td>\n",
       "    </tr>\n",
       "  </tbody>\n",
       "</table>\n",
       "<p>10495 rows × 7 columns</p>\n",
       "</div>"
      ],
      "text/plain": [
       "            Real_Time_Close  target        Open        High         Low  \\\n",
       "Date                                                                      \n",
       "1980-12-15         0.094952     0.0    0.100178    0.100614    0.100178   \n",
       "1980-12-16         0.087983     0.0    0.095388    0.095388    0.094952   \n",
       "1980-12-17         0.090160     1.0    0.088418    0.088418    0.087983   \n",
       "1980-12-18         0.092774     1.0    0.090160    0.090596    0.090160   \n",
       "1980-12-19         0.098436     1.0    0.092774    0.093210    0.092774   \n",
       "...                     ...     ...         ...         ...         ...   \n",
       "2022-07-25       152.949997     0.0  155.389999  156.279999  153.410004   \n",
       "2022-07-26       151.600006     0.0  154.009995  155.039993  152.279999   \n",
       "2022-07-27       156.789993     1.0  152.259995  153.089996  150.800003   \n",
       "2022-07-28       157.350006     1.0  152.580002  157.330002  152.160004   \n",
       "2022-07-29       162.509995     1.0  156.979996  157.639999  154.410004   \n",
       "\n",
       "                 Close       Volume  \n",
       "Date                                 \n",
       "1980-12-15    0.100178  469033600.0  \n",
       "1980-12-16    0.094952  175884800.0  \n",
       "1980-12-17    0.087983  105728000.0  \n",
       "1980-12-18    0.090160   86441600.0  \n",
       "1980-12-19    0.092774   73449600.0  \n",
       "...                ...          ...  \n",
       "2022-07-25  154.089996   66625400.0  \n",
       "2022-07-26  152.949997   53623900.0  \n",
       "2022-07-27  151.600006   55138700.0  \n",
       "2022-07-28  156.789993   78620700.0  \n",
       "2022-07-29  157.350006   81378700.0  \n",
       "\n",
       "[10495 rows x 7 columns]"
      ]
     },
     "execution_count": 122,
     "metadata": {},
     "output_type": "execute_result"
    }
   ],
   "source": [
    "apple_recreated_dataset.drop([\"Dividends\" , \"Stock Splits\"] , axis =1)"
   ]
  },
  {
   "cell_type": "markdown",
   "id": "2d1eaf01",
   "metadata": {},
   "source": [
    "Lets dived the columns for train and test datas"
   ]
  },
  {
   "cell_type": "code",
   "execution_count": 123,
   "id": "3b59672f",
   "metadata": {},
   "outputs": [],
   "source": [
    "predictors =[\"Open\" , \"High\" , \"Low\" , \"Close\" , \"Volume\"]\n",
    "X_data = apple_recreated_dataset[predictors]\n",
    "Y_data = apple_recreated_dataset.target\n",
    "X_train , X_test , Y_train , Y_test =train_test_split(X_data , Y_data , test_size =0.2 , random_state =1)"
   ]
  },
  {
   "cell_type": "markdown",
   "id": "b0c12dc7",
   "metadata": {},
   "source": [
    "Now DataSet is fully functionalized.Lets findout the sutaible model for this case\n"
   ]
  },
  {
   "cell_type": "code",
   "execution_count": 124,
   "id": "4fd81eeb",
   "metadata": {},
   "outputs": [
    {
     "data": {
      "text/html": [
       "<div>\n",
       "<style scoped>\n",
       "    .dataframe tbody tr th:only-of-type {\n",
       "        vertical-align: middle;\n",
       "    }\n",
       "\n",
       "    .dataframe tbody tr th {\n",
       "        vertical-align: top;\n",
       "    }\n",
       "\n",
       "    .dataframe thead th {\n",
       "        text-align: right;\n",
       "    }\n",
       "</style>\n",
       "<table border=\"1\" class=\"dataframe\">\n",
       "  <thead>\n",
       "    <tr style=\"text-align: right;\">\n",
       "      <th></th>\n",
       "      <th>model</th>\n",
       "      <th>best_score</th>\n",
       "      <th>best_params</th>\n",
       "    </tr>\n",
       "  </thead>\n",
       "  <tbody>\n",
       "    <tr>\n",
       "      <th>0</th>\n",
       "      <td>randome_forest</td>\n",
       "      <td>0.507385</td>\n",
       "      <td>{'criterion': 'entropy', 'n_estimators': 100}</td>\n",
       "    </tr>\n",
       "    <tr>\n",
       "      <th>1</th>\n",
       "      <td>LogisticRegression</td>\n",
       "      <td>0.497737</td>\n",
       "      <td>{'C': 1}</td>\n",
       "    </tr>\n",
       "  </tbody>\n",
       "</table>\n",
       "</div>"
      ],
      "text/plain": [
       "                model  best_score  \\\n",
       "0      randome_forest    0.507385   \n",
       "1  LogisticRegression    0.497737   \n",
       "\n",
       "                                     best_params  \n",
       "0  {'criterion': 'entropy', 'n_estimators': 100}  \n",
       "1                                       {'C': 1}  "
      ]
     },
     "execution_count": 124,
     "metadata": {},
     "output_type": "execute_result"
    }
   ],
   "source": [
    "\n",
    "\n",
    "models_params={ \"randome_forest\": {\"model\":RandomForestClassifier(n_jobs=6 , random_state=1) ,\n",
    "                                   \"params\":{\"n_estimators\" :[10 ,20, 50,100] , \"criterion\" :[\"entropy\"] }} ,\n",
    "                \"LogisticRegression\" :{\"model\": LogisticRegression(multi_class=\"auto\" , n_jobs=6 , random_state=1) ,\n",
    "                                    \"params\": {\"C\":[1,5,10] }} ,\n",
    "                }\n",
    "Score =[]\n",
    "for models_names ,mp in models_params.items():\n",
    "    clf =GridSearchCV(mp[\"model\"] ,mp[\"params\"] ,cv=5, return_train_score=False)\n",
    "    clf.fit(X_train, Y_train)\n",
    "    Score.append({\n",
    "        \"model\":models_names,\n",
    "        \"best_score\":clf.best_score_,\n",
    "        \"best_params\":clf.best_params_\n",
    "    })\n",
    "    \n",
    "model_selection= pd.DataFrame(Score , columns=[\"model\" , \"best_score\" ,\"best_params\"])\n",
    "model_selection"
   ]
  },
  {
   "cell_type": "markdown",
   "id": "249afe73",
   "metadata": {},
   "source": [
    "Dont add SVM module to GridSearchCV , otherwise it will take 5,6 hours to execute. so lets try SVM module apart of GridSearchCV"
   ]
  },
  {
   "cell_type": "code",
   "execution_count": 125,
   "id": "da2488ca",
   "metadata": {},
   "outputs": [
    {
     "data": {
      "text/plain": [
       "0.5069080514530729"
      ]
     },
     "execution_count": 125,
     "metadata": {},
     "output_type": "execute_result"
    }
   ],
   "source": [
    "model_svm = SVC(random_state =1)\n",
    "model_svm.fit(X_train , Y_train)\n",
    "model_svm.score(X_test , Y_test)"
   ]
  },
  {
   "cell_type": "markdown",
   "id": "85831458",
   "metadata": {},
   "source": [
    "RandomForestClassifier is better to use"
   ]
  },
  {
   "cell_type": "code",
   "execution_count": 126,
   "id": "55e41e29",
   "metadata": {},
   "outputs": [],
   "source": [
    "model_randomforest = RandomForestClassifier(n_jobs=6 , random_state=1 ,n_estimators =1 , criterion = \"entropy\" )"
   ]
  },
  {
   "cell_type": "code",
   "execution_count": 127,
   "id": "9a47f174",
   "metadata": {},
   "outputs": [
    {
     "data": {
      "text/plain": [
       "RandomForestClassifier(criterion='entropy', n_estimators=1, n_jobs=6,\n",
       "                       random_state=1)"
      ]
     },
     "execution_count": 127,
     "metadata": {},
     "output_type": "execute_result"
    }
   ],
   "source": [
    "model_randomforest.fit(X_train , Y_train)"
   ]
  },
  {
   "cell_type": "code",
   "execution_count": 128,
   "id": "6d90e198",
   "metadata": {},
   "outputs": [
    {
     "data": {
      "text/plain": [
       "0.5045259647451167"
      ]
     },
     "execution_count": 128,
     "metadata": {},
     "output_type": "execute_result"
    }
   ],
   "source": [
    "model_randomforest.score(X_test , Y_test)"
   ]
  },
  {
   "cell_type": "markdown",
   "id": "98ae344a",
   "metadata": {},
   "source": [
    "### The best way to predict stock price level"
   ]
  },
  {
   "cell_type": "markdown",
   "id": "30404bfd",
   "metadata": {},
   "source": [
    "in this way we gonna split all the datas and put into the test\n"
   ]
  },
  {
   "cell_type": "code",
   "execution_count": 141,
   "id": "b6580454",
   "metadata": {},
   "outputs": [
    {
     "name": "stdout",
     "output_type": "stream",
     "text": [
      "            Real  Predictors\n",
      "Date                        \n",
      "1984-11-27   1.0         1.0\n",
      "1984-11-28   1.0         1.0\n",
      "1984-11-29   0.0         1.0\n",
      "1984-11-30   0.0         1.0\n",
      "1984-12-03   0.0         1.0\n",
      "...          ...         ...\n",
      "1986-01-29   1.0         0.0\n",
      "1986-01-30   0.0         0.0\n",
      "1986-01-31   1.0         0.0\n",
      "1986-02-03   1.0         1.0\n",
      "1986-02-04   0.0         0.0\n",
      "\n",
      "[300 rows x 2 columns]\n"
     ]
    },
    {
     "data": {
      "image/png": "[encoded data removed]",
      "text/plain": [
       "<Figure size 720x504 with 2 Axes>"
      ]
     },
     "metadata": {
      "needs_background": "light"
     },
     "output_type": "display_data"
    },
    {
     "name": "stdout",
     "output_type": "stream",
     "text": [
      "            Real  Predictors\n",
      "Date                        \n",
      "1986-02-05   0.0         1.0\n",
      "1986-02-06   1.0         0.0\n",
      "1986-02-07   0.0         1.0\n",
      "1986-02-10   0.0         1.0\n",
      "1986-02-11   0.0         0.0\n",
      "...          ...         ...\n",
      "1987-04-07   0.0         0.0\n",
      "1987-04-08   1.0         0.0\n",
      "1987-04-09   1.0         0.0\n",
      "1987-04-10   0.0         0.0\n",
      "1987-04-13   0.0         0.0\n",
      "\n",
      "[300 rows x 2 columns]\n"
     ]
    },
    {
     "data": {
      "image/png": "[encoded data removed]",
      "text/plain": [
       "<Figure size 720x504 with 2 Axes>"
      ]
     },
     "metadata": {
      "needs_background": "light"
     },
     "output_type": "display_data"
    },
    {
     "name": "stdout",
     "output_type": "stream",
     "text": [
      "            Real  Predictors\n",
      "Date                        \n",
      "1987-04-14   1.0         0.0\n",
      "1987-04-15   1.0         0.0\n",
      "1987-04-16   1.0         0.0\n",
      "1987-04-20   0.0         0.0\n",
      "1987-04-21   1.0         0.0\n",
      "...          ...         ...\n",
      "1988-06-14   1.0         0.0\n",
      "1988-06-15   1.0         0.0\n",
      "1988-06-16   0.0         0.0\n",
      "1988-06-17   1.0         0.0\n",
      "1988-06-20   0.0         0.0\n",
      "\n",
      "[300 rows x 2 columns]\n"
     ]
    },
    {
     "data": {
      "image/png": "[encoded data removed]",
      "text/plain": [
       "<Figure size 720x504 with 2 Axes>"
      ]
     },
     "metadata": {
      "needs_background": "light"
     },
     "output_type": "display_data"
    },
    {
     "name": "stdout",
     "output_type": "stream",
     "text": [
      "            Real  Predictors\n",
      "Date                        \n",
      "1988-06-21   1.0         0.0\n",
      "1988-06-22   1.0         1.0\n",
      "1988-06-23   0.0         1.0\n",
      "1988-06-24   0.0         0.0\n",
      "1988-06-27   0.0         0.0\n",
      "...          ...         ...\n",
      "1989-08-21   1.0         1.0\n",
      "1989-08-22   1.0         1.0\n",
      "1989-08-23   1.0         1.0\n",
      "1989-08-24   1.0         1.0\n",
      "1989-08-25   1.0         1.0\n",
      "\n",
      "[300 rows x 2 columns]\n"
     ]
    },
    {
     "data": {
      "image/png": "[encoded data removed]",
      "text/plain": [
       "<Figure size 720x504 with 2 Axes>"
      ]
     },
     "metadata": {
      "needs_background": "light"
     },
     "output_type": "display_data"
    },
    {
     "name": "stdout",
     "output_type": "stream",
     "text": [
      "            Real  Predictors\n",
      "Date                        \n",
      "1989-08-28   0.0         1.0\n",
      "1989-08-29   0.0         1.0\n",
      "1989-08-30   1.0         1.0\n",
      "1989-08-31   0.0         0.0\n",
      "1989-09-01   1.0         0.0\n",
      "...          ...         ...\n",
      "1990-10-26   0.0         0.0\n",
      "1990-10-29   0.0         0.0\n",
      "1990-10-30   1.0         0.0\n",
      "1990-10-31   1.0         1.0\n",
      "1990-11-01   0.0         1.0\n",
      "\n",
      "[300 rows x 2 columns]\n"
     ]
    },
    {
     "data": {
      "image/png": "[encoded data removed]",
      "text/plain": [
       "<Figure size 720x504 with 2 Axes>"
      ]
     },
     "metadata": {
      "needs_background": "light"
     },
     "output_type": "display_data"
    },
    {
     "name": "stdout",
     "output_type": "stream",
     "text": [
      "            Real  Predictors\n",
      "Date                        \n",
      "1990-11-02   1.0         1.0\n",
      "1990-11-05   1.0         0.0\n",
      "1990-11-06   1.0         0.0\n",
      "1990-11-07   0.0         1.0\n",
      "1990-11-08   1.0         1.0\n",
      "...          ...         ...\n",
      "1992-01-06   0.0         0.0\n",
      "1992-01-07   1.0         0.0\n",
      "1992-01-08   1.0         0.0\n",
      "1992-01-09   1.0         0.0\n",
      "1992-01-10   0.0         0.0\n",
      "\n",
      "[300 rows x 2 columns]\n"
     ]
    },
    {
     "data": {
      "image/png": "[encoded data removed]",
      "text/plain": [
       "<Figure size 720x504 with 2 Axes>"
      ]
     },
     "metadata": {
      "needs_background": "light"
     },
     "output_type": "display_data"
    },
    {
     "name": "stdout",
     "output_type": "stream",
     "text": [
      "            Real  Predictors\n",
      "Date                        \n",
      "1992-01-13   0.0         0.0\n",
      "1992-01-14   1.0         1.0\n",
      "1992-01-15   0.0         1.0\n",
      "1992-01-16   0.0         1.0\n",
      "1992-01-17   1.0         1.0\n",
      "...          ...         ...\n",
      "1993-03-12   0.0         1.0\n",
      "1993-03-15   1.0         0.0\n",
      "1993-03-16   0.0         0.0\n",
      "1993-03-17   0.0         1.0\n",
      "1993-03-18   0.0         0.0\n",
      "\n",
      "[300 rows x 2 columns]\n"
     ]
    },
    {
     "data": {
      "image/png": "[encoded data removed]",
      "text/plain": [
       "<Figure size 720x504 with 2 Axes>"
      ]
     },
     "metadata": {
      "needs_background": "light"
     },
     "output_type": "display_data"
    },
    {
     "name": "stdout",
     "output_type": "stream",
     "text": [
      "            Real  Predictors\n",
      "Date                        \n",
      "1993-03-19   0.0         0.0\n",
      "1993-03-22   0.0         0.0\n",
      "1993-03-23   0.0         1.0\n",
      "1993-03-24   1.0         0.0\n",
      "1993-03-25   1.0         1.0\n",
      "...          ...         ...\n",
      "1994-05-19   1.0         1.0\n",
      "1994-05-20   0.0         1.0\n",
      "1994-05-23   0.0         0.0\n",
      "1994-05-24   1.0         1.0\n",
      "1994-05-25   1.0         1.0\n",
      "\n",
      "[300 rows x 2 columns]\n"
     ]
    },
    {
     "data": {
      "image/png": "[encoded data removed]",
      "text/plain": [
       "<Figure size 720x504 with 2 Axes>"
      ]
     },
     "metadata": {
      "needs_background": "light"
     },
     "output_type": "display_data"
    },
    {
     "name": "stdout",
     "output_type": "stream",
     "text": [
      "            Real  Predictors\n",
      "Date                        \n",
      "1994-05-26   0.0         1.0\n",
      "1994-05-27   0.0         0.0\n",
      "1994-05-31   0.0         1.0\n",
      "1994-06-01   0.0         0.0\n",
      "1994-06-02   0.0         1.0\n",
      "...          ...         ...\n",
      "1995-07-27   1.0         0.0\n",
      "1995-07-28   0.0         1.0\n",
      "1995-07-31   0.0         0.0\n",
      "1995-08-01   0.0         1.0\n",
      "1995-08-02   1.0         1.0\n",
      "\n",
      "[300 rows x 2 columns]\n"
     ]
    },
    {
     "data": {
      "image/png": "[encoded data removed]",
      "text/plain": [
       "<Figure size 720x504 with 2 Axes>"
      ]
     },
     "metadata": {
      "needs_background": "light"
     },
     "output_type": "display_data"
    },
    {
     "name": "stdout",
     "output_type": "stream",
     "text": [
      "            Real  Predictors\n",
      "Date                        \n",
      "1995-08-03   1.0         0.0\n",
      "1995-08-04   0.0         1.0\n",
      "1995-08-07   0.0         1.0\n",
      "1995-08-08   0.0         1.0\n",
      "1995-08-09   1.0         1.0\n",
      "...          ...         ...\n",
      "1996-10-02   0.0         0.0\n",
      "1996-10-03   0.0         1.0\n",
      "1996-10-04   1.0         0.0\n",
      "1996-10-07   1.0         1.0\n",
      "1996-10-08   1.0         1.0\n",
      "\n",
      "[300 rows x 2 columns]\n"
     ]
    },
    {
     "data": {
      "image/png": "[encoded data removed]",
      "text/plain": [
       "<Figure size 720x504 with 2 Axes>"
      ]
     },
     "metadata": {
      "needs_background": "light"
     },
     "output_type": "display_data"
    },
    {
     "name": "stdout",
     "output_type": "stream",
     "text": [
      "            Real  Predictors\n",
      "Date                        \n",
      "1996-10-09   0.0         1.0\n",
      "1996-10-10   1.0         1.0\n",
      "1996-10-11   1.0         1.0\n",
      "1996-10-14   1.0         0.0\n",
      "1996-10-15   0.0         0.0\n",
      "...          ...         ...\n",
      "1997-12-09   0.0         1.0\n",
      "1997-12-10   0.0         1.0\n",
      "1997-12-11   0.0         0.0\n",
      "1997-12-12   0.0         0.0\n",
      "1997-12-15   0.0         0.0\n",
      "\n",
      "[300 rows x 2 columns]\n"
     ]
    },
    {
     "data": {
      "image/png": "[encoded data removed]",
      "text/plain": [
       "<Figure size 720x504 with 2 Axes>"
      ]
     },
     "metadata": {
      "needs_background": "light"
     },
     "output_type": "display_data"
    },
    {
     "name": "stdout",
     "output_type": "stream",
     "text": [
      "            Real  Predictors\n",
      "Date                        \n",
      "1997-12-16   1.0         1.0\n",
      "1997-12-17   0.0         1.0\n",
      "1997-12-18   0.0         1.0\n",
      "1997-12-19   0.0         0.0\n",
      "1997-12-22   0.0         1.0\n",
      "...          ...         ...\n",
      "1999-02-19   1.0         0.0\n",
      "1999-02-22   1.0         1.0\n",
      "1999-02-23   0.0         0.0\n",
      "1999-02-24   0.0         0.0\n",
      "1999-02-25   0.0         0.0\n",
      "\n",
      "[300 rows x 2 columns]\n"
     ]
    },
    {
     "data": {
      "image/png": "[encoded data removed]",
      "text/plain": [
       "<Figure size 720x504 with 2 Axes>"
      ]
     },
     "metadata": {
      "needs_background": "light"
     },
     "output_type": "display_data"
    },
    {
     "name": "stdout",
     "output_type": "stream",
     "text": [
      "            Real  Predictors\n",
      "Date                        \n",
      "1999-02-26   0.0         0.0\n",
      "1999-03-01   0.0         0.0\n",
      "1999-03-02   1.0         1.0\n",
      "1999-03-03   0.0         1.0\n",
      "1999-03-04   0.0         1.0\n",
      "...          ...         ...\n",
      "2000-04-27   1.0         0.0\n",
      "2000-04-28   0.0         0.0\n",
      "2000-05-01   1.0         0.0\n",
      "2000-05-02   0.0         0.0\n",
      "2000-05-03   0.0         0.0\n",
      "\n",
      "[300 rows x 2 columns]\n"
     ]
    },
    {
     "data": {
      "image/png": "[encoded data removed]",
      "text/plain": [
       "<Figure size 720x504 with 2 Axes>"
      ]
     },
     "metadata": {
      "needs_background": "light"
     },
     "output_type": "display_data"
    },
    {
     "name": "stdout",
     "output_type": "stream",
     "text": [
      "            Real  Predictors\n",
      "Date                        \n",
      "2000-05-04   0.0         0.0\n",
      "2000-05-05   1.0         1.0\n",
      "2000-05-08   0.0         0.0\n",
      "2000-05-09   0.0         1.0\n",
      "2000-05-10   0.0         0.0\n",
      "...          ...         ...\n",
      "2001-07-06   0.0         1.0\n",
      "2001-07-09   1.0         1.0\n",
      "2001-07-10   0.0         1.0\n",
      "2001-07-11   1.0         1.0\n",
      "2001-07-12   1.0         1.0\n",
      "\n",
      "[300 rows x 2 columns]\n"
     ]
    },
    {
     "data": {
      "image/png": "[encoded data removed]",
      "text/plain": [
       "<Figure size 720x504 with 2 Axes>"
      ]
     },
     "metadata": {
      "needs_background": "light"
     },
     "output_type": "display_data"
    },
    {
     "name": "stdout",
     "output_type": "stream",
     "text": [
      "            Real  Predictors\n",
      "Date                        \n",
      "2001-07-13   1.0         0.0\n",
      "2001-07-16   0.0         1.0\n",
      "2001-07-17   1.0         1.0\n",
      "2001-07-18   0.0         1.0\n",
      "2001-07-19   0.0         0.0\n",
      "...          ...         ...\n",
      "2002-09-19   0.0         0.0\n",
      "2002-09-20   1.0         0.0\n",
      "2002-09-23   0.0         1.0\n",
      "2002-09-24   0.0         1.0\n",
      "2002-09-25   1.0         0.0\n",
      "\n",
      "[300 rows x 2 columns]\n"
     ]
    },
    {
     "data": {
      "image/png": "[encoded data removed]",
      "text/plain": [
       "<Figure size 720x504 with 2 Axes>"
      ]
     },
     "metadata": {
      "needs_background": "light"
     },
     "output_type": "display_data"
    },
    {
     "name": "stdout",
     "output_type": "stream",
     "text": [
      "            Real  Predictors\n",
      "Date                        \n",
      "2002-09-26   0.0         1.0\n",
      "2002-09-27   1.0         0.0\n",
      "2002-09-30   0.0         1.0\n",
      "2002-10-01   1.0         1.0\n",
      "2002-10-02   0.0         1.0\n",
      "...          ...         ...\n",
      "2003-11-26   1.0         0.0\n",
      "2003-11-28   1.0         0.0\n",
      "2003-12-01   1.0         0.0\n",
      "2003-12-02   0.0         1.0\n",
      "2003-12-03   0.0         1.0\n",
      "\n",
      "[300 rows x 2 columns]\n"
     ]
    },
    {
     "data": {
      "image/png": "[encoded data removed]",
      "text/plain": [
       "<Figure size 720x504 with 2 Axes>"
      ]
     },
     "metadata": {
      "needs_background": "light"
     },
     "output_type": "display_data"
    },
    {
     "name": "stdout",
     "output_type": "stream",
     "text": [
      "            Real  Predictors\n",
      "Date                        \n",
      "2003-12-04   1.0         0.0\n",
      "2003-12-05   0.0         0.0\n",
      "2003-12-08   1.0         1.0\n",
      "2003-12-09   0.0         1.0\n",
      "2003-12-10   0.0         0.0\n",
      "...          ...         ...\n",
      "2005-02-07   1.0         0.0\n",
      "2005-02-08   1.0         0.0\n",
      "2005-02-09   0.0         0.0\n",
      "2005-02-10   0.0         0.0\n",
      "2005-02-11   1.0         0.0\n",
      "\n",
      "[300 rows x 2 columns]\n"
     ]
    },
    {
     "data": {
      "image/png": "[encoded data removed]",
      "text/plain": [
       "<Figure size 720x504 with 2 Axes>"
      ]
     },
     "metadata": {
      "needs_background": "light"
     },
     "output_type": "display_data"
    },
    {
     "name": "stdout",
     "output_type": "stream",
     "text": [
      "            Real  Predictors\n",
      "Date                        \n",
      "2005-02-14   1.0         0.0\n",
      "2005-02-15   1.0         0.0\n",
      "2005-02-16   1.0         0.0\n",
      "2005-02-17   0.0         0.0\n",
      "2005-02-18   0.0         0.0\n",
      "...          ...         ...\n",
      "2006-04-18   1.0         0.0\n",
      "2006-04-19   0.0         0.0\n",
      "2006-04-20   1.0         0.0\n",
      "2006-04-21   0.0         0.0\n",
      "2006-04-24   0.0         0.0\n",
      "\n",
      "[300 rows x 2 columns]\n"
     ]
    },
    {
     "data": {
      "image/png": "[encoded data removed]",
      "text/plain": [
       "<Figure size 720x504 with 2 Axes>"
      ]
     },
     "metadata": {
      "needs_background": "light"
     },
     "output_type": "display_data"
    },
    {
     "name": "stdout",
     "output_type": "stream",
     "text": [
      "            Real  Predictors\n",
      "Date                        \n",
      "2006-04-25   1.0         1.0\n",
      "2006-04-26   1.0         1.0\n",
      "2006-04-27   1.0         1.0\n",
      "2006-04-28   1.0         0.0\n",
      "2006-05-01   0.0         1.0\n",
      "...          ...         ...\n",
      "2007-06-27   1.0         0.0\n",
      "2007-06-28   0.0         0.0\n",
      "2007-06-29   1.0         0.0\n",
      "2007-07-02   0.0         0.0\n",
      "2007-07-03   1.0         0.0\n",
      "\n",
      "[300 rows x 2 columns]\n"
     ]
    },
    {
     "data": {
      "image/png": "[encoded data removed]",
      "text/plain": [
       "<Figure size 720x504 with 2 Axes>"
      ]
     },
     "metadata": {
      "needs_background": "light"
     },
     "output_type": "display_data"
    },
    {
     "name": "stdout",
     "output_type": "stream",
     "text": [
      "            Real  Predictors\n",
      "Date                        \n",
      "2007-07-05   1.0         1.0\n",
      "2007-07-06   0.0         0.0\n",
      "2007-07-09   0.0         0.0\n",
      "2007-07-10   1.0         0.0\n",
      "2007-07-11   1.0         0.0\n",
      "...          ...         ...\n",
      "2008-09-04   0.0         1.0\n",
      "2008-09-05   0.0         1.0\n",
      "2008-09-08   0.0         0.0\n",
      "2008-09-09   0.0         0.0\n",
      "2008-09-10   0.0         0.0\n",
      "\n",
      "[300 rows x 2 columns]\n"
     ]
    },
    {
     "data": {
      "image/png": "[encoded data removed]",
      "text/plain": [
       "<Figure size 720x504 with 2 Axes>"
      ]
     },
     "metadata": {
      "needs_background": "light"
     },
     "output_type": "display_data"
    },
    {
     "name": "stdout",
     "output_type": "stream",
     "text": [
      "            Real  Predictors\n",
      "Date                        \n",
      "2008-09-11   1.0         1.0\n",
      "2008-09-12   0.0         1.0\n",
      "2008-09-15   0.0         1.0\n",
      "2008-09-16   0.0         1.0\n",
      "2008-09-17   0.0         1.0\n",
      "...          ...         ...\n",
      "2009-11-11   1.0         0.0\n",
      "2009-11-12   0.0         0.0\n",
      "2009-11-13   1.0         0.0\n",
      "2009-11-16   1.0         0.0\n",
      "2009-11-17   1.0         0.0\n",
      "\n",
      "[300 rows x 2 columns]\n"
     ]
    },
    {
     "data": {
      "image/png": "[encoded data removed]",
      "text/plain": [
       "<Figure size 720x504 with 2 Axes>"
      ]
     },
     "metadata": {
      "needs_background": "light"
     },
     "output_type": "display_data"
    },
    {
     "name": "stdout",
     "output_type": "stream",
     "text": [
      "            Real  Predictors\n",
      "Date                        \n",
      "2009-11-18   0.0         1.0\n",
      "2009-11-19   0.0         0.0\n",
      "2009-11-20   0.0         0.0\n",
      "2009-11-23   1.0         1.0\n",
      "2009-11-24   0.0         0.0\n",
      "...          ...         ...\n",
      "2011-01-21   0.0         1.0\n",
      "2011-01-24   1.0         1.0\n",
      "2011-01-25   1.0         1.0\n",
      "2011-01-26   1.0         1.0\n",
      "2011-01-27   0.0         1.0\n",
      "\n",
      "[300 rows x 2 columns]\n"
     ]
    },
    {
     "data": {
      "image/png": "[encoded data removed]",
      "text/plain": [
       "<Figure size 720x504 with 2 Axes>"
      ]
     },
     "metadata": {
      "needs_background": "light"
     },
     "output_type": "display_data"
    },
    {
     "name": "stdout",
     "output_type": "stream",
     "text": [
      "            Real  Predictors\n",
      "Date                        \n",
      "2011-01-28   0.0         1.0\n",
      "2011-01-31   1.0         0.0\n",
      "2011-02-01   1.0         1.0\n",
      "2011-02-02   0.0         1.0\n",
      "2011-02-03   0.0         1.0\n",
      "...          ...         ...\n",
      "2012-03-30   0.0         0.0\n",
      "2012-04-02   1.0         0.0\n",
      "2012-04-03   1.0         0.0\n",
      "2012-04-04   0.0         0.0\n",
      "2012-04-05   1.0         0.0\n",
      "\n",
      "[300 rows x 2 columns]\n"
     ]
    },
    {
     "data": {
      "image/png": "[encoded data removed]",
      "text/plain": [
       "<Figure size 720x504 with 2 Axes>"
      ]
     },
     "metadata": {
      "needs_background": "light"
     },
     "output_type": "display_data"
    },
    {
     "name": "stdout",
     "output_type": "stream",
     "text": [
      "            Real  Predictors\n",
      "Date                        \n",
      "2012-04-09   1.0         0.0\n",
      "2012-04-10   0.0         1.0\n",
      "2012-04-11   0.0         0.0\n",
      "2012-04-12   0.0         0.0\n",
      "2012-04-13   0.0         0.0\n",
      "...          ...         ...\n",
      "2013-06-12   0.0         1.0\n",
      "2013-06-13   1.0         0.0\n",
      "2013-06-14   0.0         1.0\n",
      "2013-06-17   1.0         0.0\n",
      "2013-06-18   0.0         0.0\n",
      "\n",
      "[300 rows x 2 columns]\n"
     ]
    },
    {
     "data": {
      "image/png": "[encoded data removed]",
      "text/plain": [
       "<Figure size 720x504 with 2 Axes>"
      ]
     },
     "metadata": {
      "needs_background": "light"
     },
     "output_type": "display_data"
    },
    {
     "name": "stdout",
     "output_type": "stream",
     "text": [
      "            Real  Predictors\n",
      "Date                        \n",
      "2013-06-19   0.0         0.0\n",
      "2013-06-20   0.0         0.0\n",
      "2013-06-21   0.0         0.0\n",
      "2013-06-24   0.0         1.0\n",
      "2013-06-25   1.0         1.0\n",
      "...          ...         ...\n",
      "2014-08-20   1.0         1.0\n",
      "2014-08-21   1.0         0.0\n",
      "2014-08-22   1.0         0.0\n",
      "2014-08-25   1.0         0.0\n",
      "2014-08-26   0.0         0.0\n",
      "\n",
      "[300 rows x 2 columns]\n"
     ]
    },
    {
     "data": {
      "image/png": "[encoded data removed]",
      "text/plain": [
       "<Figure size 720x504 with 2 Axes>"
      ]
     },
     "metadata": {
      "needs_background": "light"
     },
     "output_type": "display_data"
    },
    {
     "name": "stdout",
     "output_type": "stream",
     "text": [
      "            Real  Predictors\n",
      "Date                        \n",
      "2014-08-27   1.0         1.0\n",
      "2014-08-28   1.0         0.0\n",
      "2014-08-29   1.0         0.0\n",
      "2014-09-02   1.0         0.0\n",
      "2014-09-03   0.0         0.0\n",
      "...          ...         ...\n",
      "2015-10-28   1.0         0.0\n",
      "2015-10-29   1.0         0.0\n",
      "2015-10-30   0.0         0.0\n",
      "2015-11-02   1.0         0.0\n",
      "2015-11-03   1.0         0.0\n",
      "\n",
      "[300 rows x 2 columns]\n"
     ]
    },
    {
     "data": {
      "image/png": "[encoded data removed]",
      "text/plain": [
       "<Figure size 720x504 with 2 Axes>"
      ]
     },
     "metadata": {
      "needs_background": "light"
     },
     "output_type": "display_data"
    },
    {
     "name": "stdout",
     "output_type": "stream",
     "text": [
      "            Real  Predictors\n",
      "Date                        \n",
      "2015-11-04   0.0         0.0\n",
      "2015-11-05   0.0         0.0\n",
      "2015-11-06   1.0         1.0\n",
      "2015-11-09   0.0         1.0\n",
      "2015-11-10   0.0         0.0\n",
      "...          ...         ...\n",
      "2017-01-06   1.0         1.0\n",
      "2017-01-09   1.0         1.0\n",
      "2017-01-10   1.0         0.0\n",
      "2017-01-11   1.0         1.0\n",
      "2017-01-12   0.0         1.0\n",
      "\n",
      "[300 rows x 2 columns]\n"
     ]
    },
    {
     "data": {
      "image/png": "[encoded data removed]",
      "text/plain": [
       "<Figure size 720x504 with 2 Axes>"
      ]
     },
     "metadata": {
      "needs_background": "light"
     },
     "output_type": "display_data"
    },
    {
     "name": "stdout",
     "output_type": "stream",
     "text": [
      "            Real  Predictors\n",
      "Date                        \n",
      "2017-01-13   0.0         0.0\n",
      "2017-01-17   1.0         1.0\n",
      "2017-01-18   0.0         0.0\n",
      "2017-01-19   0.0         0.0\n",
      "2017-01-20   1.0         0.0\n",
      "...          ...         ...\n",
      "2018-03-19   0.0         0.0\n",
      "2018-03-20   0.0         0.0\n",
      "2018-03-21   0.0         0.0\n",
      "2018-03-22   0.0         0.0\n",
      "2018-03-23   0.0         0.0\n",
      "\n",
      "[300 rows x 2 columns]\n"
     ]
    },
    {
     "data": {
      "image/png": "[encoded data removed]",
      "text/plain": [
       "<Figure size 720x504 with 2 Axes>"
      ]
     },
     "metadata": {
      "needs_background": "light"
     },
     "output_type": "display_data"
    },
    {
     "name": "stdout",
     "output_type": "stream",
     "text": [
      "            Real  Predictors\n",
      "Date                        \n",
      "2018-03-26   1.0         0.0\n",
      "2018-03-27   0.0         0.0\n",
      "2018-03-28   0.0         1.0\n",
      "2018-03-29   1.0         0.0\n",
      "2018-04-02   0.0         0.0\n",
      "...          ...         ...\n",
      "2019-05-29   0.0         0.0\n",
      "2019-05-30   1.0         0.0\n",
      "2019-05-31   0.0         0.0\n",
      "2019-06-03   0.0         0.0\n",
      "2019-06-04   1.0         0.0\n",
      "\n",
      "[300 rows x 2 columns]\n"
     ]
    },
    {
     "data": {
      "image/png": "[encoded data removed]",
      "text/plain": [
       "<Figure size 720x504 with 2 Axes>"
      ]
     },
     "metadata": {
      "needs_background": "light"
     },
     "output_type": "display_data"
    },
    {
     "name": "stdout",
     "output_type": "stream",
     "text": [
      "            Real  Predictors\n",
      "Date                        \n",
      "2019-06-05   1.0         0.0\n",
      "2019-06-06   1.0         0.0\n",
      "2019-06-07   1.0         1.0\n",
      "2019-06-10   1.0         0.0\n",
      "2019-06-11   1.0         1.0\n",
      "...          ...         ...\n",
      "2020-08-05   1.0         0.0\n",
      "2020-08-06   1.0         0.0\n",
      "2020-08-07   0.0         0.0\n",
      "2020-08-10   1.0         0.0\n",
      "2020-08-11   0.0         0.0\n",
      "\n",
      "[300 rows x 2 columns]\n"
     ]
    },
    {
     "data": {
      "image/png": "[encoded data removed]",
      "text/plain": [
       "<Figure size 720x504 with 2 Axes>"
      ]
     },
     "metadata": {
      "needs_background": "light"
     },
     "output_type": "display_data"
    },
    {
     "name": "stdout",
     "output_type": "stream",
     "text": [
      "            Real  Predictors\n",
      "Date                        \n",
      "2020-08-12   1.0         1.0\n",
      "2020-08-13   1.0         0.0\n",
      "2020-08-14   0.0         0.0\n",
      "2020-08-17   0.0         0.0\n",
      "2020-08-18   1.0         0.0\n",
      "...          ...         ...\n",
      "2021-10-13   0.0         0.0\n",
      "2021-10-14   1.0         0.0\n",
      "2021-10-15   1.0         0.0\n",
      "2021-10-18   1.0         0.0\n",
      "2021-10-19   1.0         0.0\n",
      "\n",
      "[300 rows x 2 columns]\n"
     ]
    },
    {
     "data": {
      "image/png": "[encoded data removed]",
      "text/plain": [
       "<Figure size 720x504 with 2 Axes>"
      ]
     },
     "metadata": {
      "needs_background": "light"
     },
     "output_type": "display_data"
    },
    {
     "name": "stdout",
     "output_type": "stream",
     "text": [
      "            Real  Predictors\n",
      "Date                        \n",
      "2021-10-20   1.0         1.0\n",
      "2021-10-21   1.0         0.0\n",
      "2021-10-22   0.0         0.0\n",
      "2021-10-25   0.0         0.0\n",
      "2021-10-26   1.0         0.0\n",
      "...          ...         ...\n",
      "2022-07-25   0.0         0.0\n",
      "2022-07-26   0.0         0.0\n",
      "2022-07-27   1.0         1.0\n",
      "2022-07-28   1.0         0.0\n",
      "2022-07-29   1.0         0.0\n",
      "\n",
      "[195 rows x 2 columns]\n"
     ]
    },
    {
     "data": {
      "image/png": "[encoded data removed]",
      "text/plain": [
       "<Figure size 720x504 with 2 Axes>"
      ]
     },
     "metadata": {
      "needs_background": "light"
     },
     "output_type": "display_data"
    },
    {
     "data": {
      "text/html": [
       "<div>\n",
       "<style scoped>\n",
       "    .dataframe tbody tr th:only-of-type {\n",
       "        vertical-align: middle;\n",
       "    }\n",
       "\n",
       "    .dataframe tbody tr th {\n",
       "        vertical-align: top;\n",
       "    }\n",
       "\n",
       "    .dataframe thead th {\n",
       "        text-align: right;\n",
       "    }\n",
       "</style>\n",
       "<table border=\"1\" class=\"dataframe\">\n",
       "  <thead>\n",
       "    <tr style=\"text-align: right;\">\n",
       "      <th></th>\n",
       "      <th>Real</th>\n",
       "      <th>Predictors</th>\n",
       "    </tr>\n",
       "    <tr>\n",
       "      <th>Date</th>\n",
       "      <th></th>\n",
       "      <th></th>\n",
       "    </tr>\n",
       "  </thead>\n",
       "  <tbody>\n",
       "    <tr>\n",
       "      <th>1984-11-27</th>\n",
       "      <td>1.0</td>\n",
       "      <td>1.0</td>\n",
       "    </tr>\n",
       "    <tr>\n",
       "      <th>1984-11-28</th>\n",
       "      <td>1.0</td>\n",
       "      <td>1.0</td>\n",
       "    </tr>\n",
       "    <tr>\n",
       "      <th>1984-11-29</th>\n",
       "      <td>0.0</td>\n",
       "      <td>1.0</td>\n",
       "    </tr>\n",
       "    <tr>\n",
       "      <th>1984-11-30</th>\n",
       "      <td>0.0</td>\n",
       "      <td>1.0</td>\n",
       "    </tr>\n",
       "    <tr>\n",
       "      <th>1984-12-03</th>\n",
       "      <td>0.0</td>\n",
       "      <td>1.0</td>\n",
       "    </tr>\n",
       "    <tr>\n",
       "      <th>...</th>\n",
       "      <td>...</td>\n",
       "      <td>...</td>\n",
       "    </tr>\n",
       "    <tr>\n",
       "      <th>2022-07-25</th>\n",
       "      <td>0.0</td>\n",
       "      <td>0.0</td>\n",
       "    </tr>\n",
       "    <tr>\n",
       "      <th>2022-07-26</th>\n",
       "      <td>0.0</td>\n",
       "      <td>0.0</td>\n",
       "    </tr>\n",
       "    <tr>\n",
       "      <th>2022-07-27</th>\n",
       "      <td>1.0</td>\n",
       "      <td>1.0</td>\n",
       "    </tr>\n",
       "    <tr>\n",
       "      <th>2022-07-28</th>\n",
       "      <td>1.0</td>\n",
       "      <td>0.0</td>\n",
       "    </tr>\n",
       "    <tr>\n",
       "      <th>2022-07-29</th>\n",
       "      <td>1.0</td>\n",
       "      <td>0.0</td>\n",
       "    </tr>\n",
       "  </tbody>\n",
       "</table>\n",
       "<p>9495 rows × 2 columns</p>\n",
       "</div>"
      ],
      "text/plain": [
       "            Real  Predictors\n",
       "Date                        \n",
       "1984-11-27   1.0         1.0\n",
       "1984-11-28   1.0         1.0\n",
       "1984-11-29   0.0         1.0\n",
       "1984-11-30   0.0         1.0\n",
       "1984-12-03   0.0         1.0\n",
       "...          ...         ...\n",
       "2022-07-25   0.0         0.0\n",
       "2022-07-26   0.0         0.0\n",
       "2022-07-27   1.0         1.0\n",
       "2022-07-28   1.0         0.0\n",
       "2022-07-29   1.0         0.0\n",
       "\n",
       "[9495 rows x 2 columns]"
      ]
     },
     "execution_count": 141,
     "metadata": {},
     "output_type": "execute_result"
    }
   ],
   "source": [
    "predictor_list =[]\n",
    "start =1000\n",
    "step = 300\n",
    "for i in range(start , apple_recreated_dataset.shape[0] , step):\n",
    "    train_data = apple_recreated_dataset.iloc[:i , :]\n",
    "    test_data = apple_recreated_dataset.iloc[i :(i+step) ]\n",
    "    model = RandomForestClassifier(n_jobs=6 , random_state=1 ,n_estimators =1 , criterion = \"entropy\" )\n",
    "    model.fit(train_data[predictors] , train_data.target)\n",
    "    null = model.predict(test_data[predictors])\n",
    "    \n",
    "    df =pd.DataFrame({\"Real\" : test_data.target , \"Predictors\" : null})\n",
    "    predictions = predictor_list.append(df)\n",
    "    \n",
    "    print(df)\n",
    "    y_predict =model.predict(test_data[predictors])\n",
    "    cm =confusion_matrix(test_data.target ,y_predict)\n",
    "    #print(cm)\n",
    "    plt.figure(figsize =(10,7))\n",
    "    sb.heatmap(cm, annot =True)\n",
    "    plt.xlabel(\"Predict\")\n",
    "    plt.ylabel(\"Ture\")\n",
    "    plt.show()\n",
    "    \n",
    "\n",
    "    "
   ]
  },
  {
   "cell_type": "markdown",
   "id": "4c40b0d1",
   "metadata": {},
   "source": [
    "for best visualization "
   ]
  },
  {
   "cell_type": "code",
   "execution_count": 142,
   "id": "f6e12f83",
   "metadata": {},
   "outputs": [
    {
     "data": {
      "text/html": [
       "<div>\n",
       "<style scoped>\n",
       "    .dataframe tbody tr th:only-of-type {\n",
       "        vertical-align: middle;\n",
       "    }\n",
       "\n",
       "    .dataframe tbody tr th {\n",
       "        vertical-align: top;\n",
       "    }\n",
       "\n",
       "    .dataframe thead th {\n",
       "        text-align: right;\n",
       "    }\n",
       "</style>\n",
       "<table border=\"1\" class=\"dataframe\">\n",
       "  <thead>\n",
       "    <tr style=\"text-align: right;\">\n",
       "      <th></th>\n",
       "      <th>Real</th>\n",
       "      <th>Predictors</th>\n",
       "    </tr>\n",
       "    <tr>\n",
       "      <th>Date</th>\n",
       "      <th></th>\n",
       "      <th></th>\n",
       "    </tr>\n",
       "  </thead>\n",
       "  <tbody>\n",
       "    <tr>\n",
       "      <th>1984-11-27</th>\n",
       "      <td>1.0</td>\n",
       "      <td>1.0</td>\n",
       "    </tr>\n",
       "    <tr>\n",
       "      <th>1984-11-28</th>\n",
       "      <td>1.0</td>\n",
       "      <td>1.0</td>\n",
       "    </tr>\n",
       "    <tr>\n",
       "      <th>1984-11-29</th>\n",
       "      <td>0.0</td>\n",
       "      <td>1.0</td>\n",
       "    </tr>\n",
       "    <tr>\n",
       "      <th>1984-11-30</th>\n",
       "      <td>0.0</td>\n",
       "      <td>1.0</td>\n",
       "    </tr>\n",
       "    <tr>\n",
       "      <th>1984-12-03</th>\n",
       "      <td>0.0</td>\n",
       "      <td>1.0</td>\n",
       "    </tr>\n",
       "    <tr>\n",
       "      <th>...</th>\n",
       "      <td>...</td>\n",
       "      <td>...</td>\n",
       "    </tr>\n",
       "    <tr>\n",
       "      <th>2022-07-25</th>\n",
       "      <td>0.0</td>\n",
       "      <td>0.0</td>\n",
       "    </tr>\n",
       "    <tr>\n",
       "      <th>2022-07-26</th>\n",
       "      <td>0.0</td>\n",
       "      <td>0.0</td>\n",
       "    </tr>\n",
       "    <tr>\n",
       "      <th>2022-07-27</th>\n",
       "      <td>1.0</td>\n",
       "      <td>1.0</td>\n",
       "    </tr>\n",
       "    <tr>\n",
       "      <th>2022-07-28</th>\n",
       "      <td>1.0</td>\n",
       "      <td>0.0</td>\n",
       "    </tr>\n",
       "    <tr>\n",
       "      <th>2022-07-29</th>\n",
       "      <td>1.0</td>\n",
       "      <td>0.0</td>\n",
       "    </tr>\n",
       "  </tbody>\n",
       "</table>\n",
       "<p>9495 rows × 2 columns</p>\n",
       "</div>"
      ],
      "text/plain": [
       "            Real  Predictors\n",
       "Date                        \n",
       "1984-11-27   1.0         1.0\n",
       "1984-11-28   1.0         1.0\n",
       "1984-11-29   0.0         1.0\n",
       "1984-11-30   0.0         1.0\n",
       "1984-12-03   0.0         1.0\n",
       "...          ...         ...\n",
       "2022-07-25   0.0         0.0\n",
       "2022-07-26   0.0         0.0\n",
       "2022-07-27   1.0         1.0\n",
       "2022-07-28   1.0         0.0\n",
       "2022-07-29   1.0         0.0\n",
       "\n",
       "[9495 rows x 2 columns]"
      ]
     },
     "execution_count": 142,
     "metadata": {},
     "output_type": "execute_result"
    }
   ],
   "source": [
    "apple_df2 =pd.concat(predictor_list)\n",
    "apple_df2"
   ]
  },
  {
   "cell_type": "code",
   "execution_count": null,
   "id": "009f5500",
   "metadata": {},
   "outputs": [],
   "source": []
  },
  {
   "cell_type": "code",
   "execution_count": null,
   "id": "48614392",
   "metadata": {},
   "outputs": [],
   "source": []
  },
  {
   "cell_type": "code",
   "execution_count": null,
   "id": "7662f419",
   "metadata": {},
   "outputs": [],
   "source": []
  },
  {
   "cell_type": "code",
   "execution_count": null,
   "id": "407cf210",
   "metadata": {},
   "outputs": [],
   "source": []
  }
 ],
 "metadata": {
  "kernelspec": {
   "display_name": "Python 3 (ipykernel)",
   "language": "python",
   "name": "python3"
  },
  "language_info": {
   "codemirror_mode": {
    "name": "ipython",
    "version": 3
   },
   "file_extension": ".py",
   "mimetype": "text/x-python",
   "name": "python",
   "nbconvert_exporter": "python",
   "pygments_lexer": "ipython3",
   "version": "3.9.12"
  }
 },
 "nbformat": 4,
 "nbformat_minor": 5
}
