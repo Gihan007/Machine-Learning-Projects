{
 "cells": [
  {
   "cell_type": "markdown",
   "id": "39e2a917-7ee2-46aa-a1ae-643588387858",
   "metadata": {},
   "source": [
    "lests import the all modules and library"
   ]
  },
  {
   "cell_type": "code",
   "execution_count": 1,
   "id": "93460866-3d13-4272-bcf0-f51edfb240bf",
   "metadata": {},
   "outputs": [],
   "source": [
    "import pandas as pd\n",
    "import matplotlib.pyplot as plt\n",
    "import seaborn as sb\n",
    "from sklearn.datasets import load_wine\n",
    "from sklearn.feature_extraction.text import CountVectorizer\n",
    "from sklearn.metrics import confusion_matrix\n",
    "from sklearn.naive_bayes import MultinomialNB\n",
    "from sklearn.naive_bayes import GaussianNB\n",
    "from sklearn.model_selection import train_test_split\n",
    "from sklearn.pipeline import Pipeline"
   ]
  },
  {
   "cell_type": "raw",
   "id": "b7332abc-8977-4511-928d-7f121a594b97",
   "metadata": {},
   "source": [
    "Lets look at the inbuilt datas"
   ]
  },
  {
   "cell_type": "code",
   "execution_count": 2,
   "id": "1275e6eb-8e01-44dc-a050-55b5cb004908",
   "metadata": {},
   "outputs": [
    {
     "data": {
      "text/plain": [
       "['DESCR', 'data', 'feature_names', 'frame', 'target', 'target_names']"
      ]
     },
     "execution_count": 2,
     "metadata": {},
     "output_type": "execute_result"
    }
   ],
   "source": [
    "wine =load_wine()\n",
    "dir(wine)"
   ]
  },
  {
   "cell_type": "markdown",
   "id": "b3800326-3c18-4739-b13a-d5353144bd2a",
   "metadata": {},
   "source": [
    "Lets make DataFrame"
   ]
  },
  {
   "cell_type": "code",
   "execution_count": 3,
   "id": "35e69f4c-a441-4af6-b966-437905e27622",
   "metadata": {},
   "outputs": [
    {
     "name": "stdout",
     "output_type": "stream",
     "text": [
      "     alcohol  malic_acid   ash  alcalinity_of_ash  magnesium  total_phenols  \\\n",
      "0      14.23        1.71  2.43               15.6      127.0           2.80   \n",
      "1      13.20        1.78  2.14               11.2      100.0           2.65   \n",
      "2      13.16        2.36  2.67               18.6      101.0           2.80   \n",
      "3      14.37        1.95  2.50               16.8      113.0           3.85   \n",
      "4      13.24        2.59  2.87               21.0      118.0           2.80   \n",
      "..       ...         ...   ...                ...        ...            ...   \n",
      "173    13.71        5.65  2.45               20.5       95.0           1.68   \n",
      "174    13.40        3.91  2.48               23.0      102.0           1.80   \n",
      "175    13.27        4.28  2.26               20.0      120.0           1.59   \n",
      "176    13.17        2.59  2.37               20.0      120.0           1.65   \n",
      "177    14.13        4.10  2.74               24.5       96.0           2.05   \n",
      "\n",
      "     flavanoids  nonflavanoid_phenols  proanthocyanins  color_intensity   hue  \\\n",
      "0          3.06                  0.28             2.29             5.64  1.04   \n",
      "1          2.76                  0.26             1.28             4.38  1.05   \n",
      "2          3.24                  0.30             2.81             5.68  1.03   \n",
      "3          3.49                  0.24             2.18             7.80  0.86   \n",
      "4          2.69                  0.39             1.82             4.32  1.04   \n",
      "..          ...                   ...              ...              ...   ...   \n",
      "173        0.61                  0.52             1.06             7.70  0.64   \n",
      "174        0.75                  0.43             1.41             7.30  0.70   \n",
      "175        0.69                  0.43             1.35            10.20  0.59   \n",
      "176        0.68                  0.53             1.46             9.30  0.60   \n",
      "177        0.76                  0.56             1.35             9.20  0.61   \n",
      "\n",
      "     od280/od315_of_diluted_wines  proline  target    class  \n",
      "0                            3.92   1065.0       0  class_0  \n",
      "1                            3.40   1050.0       0  class_0  \n",
      "2                            3.17   1185.0       0  class_0  \n",
      "3                            3.45   1480.0       0  class_0  \n",
      "4                            2.93    735.0       0  class_0  \n",
      "..                            ...      ...     ...      ...  \n",
      "173                          1.74    740.0       2  class_2  \n",
      "174                          1.56    750.0       2  class_2  \n",
      "175                          1.56    835.0       2  class_2  \n",
      "176                          1.62    840.0       2  class_2  \n",
      "177                          1.60    560.0       2  class_2  \n",
      "\n",
      "[178 rows x 15 columns]\n"
     ]
    }
   ],
   "source": [
    "wine_raw_data = pd.DataFrame(wine.data , columns=wine.feature_names)\n",
    "wine_raw_data[\"target\"] = wine.target\n",
    "wine_raw_data[\"class\"] =wine_raw_data.target.apply(lambda x:wine.target_names[x] )\n",
    "print(wine_raw_data)"
   ]
  },
  {
   "cell_type": "markdown",
   "id": "6170e4af-9566-4db1-b608-3ef48643d0b7",
   "metadata": {},
   "source": [
    "Lets create Train Data sets and Target sets"
   ]
  },
  {
   "cell_type": "code",
   "execution_count": 4,
   "id": "9e896566-8ad9-4a39-8e8f-b8ae197c2105",
   "metadata": {},
   "outputs": [
    {
     "name": "stdout",
     "output_type": "stream",
     "text": [
      "     alcohol  malic_acid   ash  alcalinity_of_ash  magnesium  total_phenols  \\\n",
      "0      14.23        1.71  2.43               15.6      127.0           2.80   \n",
      "1      13.20        1.78  2.14               11.2      100.0           2.65   \n",
      "2      13.16        2.36  2.67               18.6      101.0           2.80   \n",
      "3      14.37        1.95  2.50               16.8      113.0           3.85   \n",
      "4      13.24        2.59  2.87               21.0      118.0           2.80   \n",
      "..       ...         ...   ...                ...        ...            ...   \n",
      "173    13.71        5.65  2.45               20.5       95.0           1.68   \n",
      "174    13.40        3.91  2.48               23.0      102.0           1.80   \n",
      "175    13.27        4.28  2.26               20.0      120.0           1.59   \n",
      "176    13.17        2.59  2.37               20.0      120.0           1.65   \n",
      "177    14.13        4.10  2.74               24.5       96.0           2.05   \n",
      "\n",
      "     flavanoids  nonflavanoid_phenols  proanthocyanins  color_intensity   hue  \\\n",
      "0          3.06                  0.28             2.29             5.64  1.04   \n",
      "1          2.76                  0.26             1.28             4.38  1.05   \n",
      "2          3.24                  0.30             2.81             5.68  1.03   \n",
      "3          3.49                  0.24             2.18             7.80  0.86   \n",
      "4          2.69                  0.39             1.82             4.32  1.04   \n",
      "..          ...                   ...              ...              ...   ...   \n",
      "173        0.61                  0.52             1.06             7.70  0.64   \n",
      "174        0.75                  0.43             1.41             7.30  0.70   \n",
      "175        0.69                  0.43             1.35            10.20  0.59   \n",
      "176        0.68                  0.53             1.46             9.30  0.60   \n",
      "177        0.76                  0.56             1.35             9.20  0.61   \n",
      "\n",
      "     od280/od315_of_diluted_wines  proline  \n",
      "0                            3.92   1065.0  \n",
      "1                            3.40   1050.0  \n",
      "2                            3.17   1185.0  \n",
      "3                            3.45   1480.0  \n",
      "4                            2.93    735.0  \n",
      "..                            ...      ...  \n",
      "173                          1.74    740.0  \n",
      "174                          1.56    750.0  \n",
      "175                          1.56    835.0  \n",
      "176                          1.62    840.0  \n",
      "177                          1.60    560.0  \n",
      "\n",
      "[178 rows x 13 columns]\n",
      "[0 0 0 0 0 0 0 0 0 0 0 0 0 0 0 0 0 0 0 0 0 0 0 0 0 0 0 0 0 0 0 0 0 0 0 0 0\n",
      " 0 0 0 0 0 0 0 0 0 0 0 0 0 0 0 0 0 0 0 0 0 0 1 1 1 1 1 1 1 1 1 1 1 1 1 1 1\n",
      " 1 1 1 1 1 1 1 1 1 1 1 1 1 1 1 1 1 1 1 1 1 1 1 1 1 1 1 1 1 1 1 1 1 1 1 1 1\n",
      " 1 1 1 1 1 1 1 1 1 1 1 1 1 1 1 1 1 1 1 2 2 2 2 2 2 2 2 2 2 2 2 2 2 2 2 2 2\n",
      " 2 2 2 2 2 2 2 2 2 2 2 2 2 2 2 2 2 2 2 2 2 2 2 2 2 2 2 2 2 2]\n"
     ]
    }
   ],
   "source": [
    "#MAKE SURE THAT THERE IS NO ANY \"NULL\" VALUES\n",
    "wine_raw_data.columns[wine_raw_data.isna().any()]\n",
    "\n",
    "wineX = wine_raw_data.drop([\"target\" , \"class\"]  , axis =\"columns\")\n",
    "print(wineX)\n",
    "wineY =wine.target\n",
    "print(wineY)"
   ]
  },
  {
   "cell_type": "markdown",
   "id": "ca8611ac-3129-4e14-aa9e-b2f99b0d189f",
   "metadata": {},
   "source": [
    "Train_test_split"
   ]
  },
  {
   "cell_type": "code",
   "execution_count": 5,
   "id": "b6df8e54-3e14-4c77-a822-578ffd68c616",
   "metadata": {},
   "outputs": [],
   "source": [
    "X_train , X_test , Y_train , Y_test = train_test_split(wineX ,wineY , test_size=0.2)"
   ]
  },
  {
   "cell_type": "markdown",
   "id": "436bde07-cf31-403d-89d3-108cc1bfb4c4",
   "metadata": {},
   "source": [
    "Lets train the model"
   ]
  },
  {
   "cell_type": "code",
   "execution_count": 6,
   "id": "b7a03fcb-b07d-4085-8a36-b43664e5e392",
   "metadata": {},
   "outputs": [
    {
     "data": {
      "text/plain": [
       "Pipeline(steps=[('sub_model', GaussianNB())])"
      ]
     },
     "execution_count": 6,
     "metadata": {},
     "output_type": "execute_result"
    }
   ],
   "source": [
    "model =Pipeline([(\"sub_model\" , GaussianNB())])\n",
    "model.fit(X_train , Y_train)"
   ]
  },
  {
   "cell_type": "code",
   "execution_count": null,
   "id": "20ef3313-f12b-447f-bacd-b996445647c9",
   "metadata": {},
   "outputs": [],
   "source": [
    "print(model.score(X_test , Y_test))\n",
    "print(model.predict([[1,1,1,1,1,1,1,1,1,1,1,1,1]]))"
   ]
  }
 ],
 "metadata": {
  "kernelspec": {
   "display_name": "Python 3 (ipykernel)",
   "language": "python",
   "name": "python3"
  },
  "language_info": {
   "codemirror_mode": {
    "name": "ipython",
    "version": 3
   },
   "file_extension": ".py",
   "mimetype": "text/x-python",
   "name": "python",
   "nbconvert_exporter": "python",
   "pygments_lexer": "ipython3",
   "version": "3.9.12"
  }
 },
 "nbformat": 4,
 "nbformat_minor": 5
}
